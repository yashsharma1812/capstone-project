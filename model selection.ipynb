{
 "cells": [
  {
   "cell_type": "code",
   "execution_count": 1,
   "id": "9e324043-29d8-412c-91be-f52657691685",
   "metadata": {
    "tags": []
   },
   "outputs": [],
   "source": [
    "import numpy as np\n",
    "import pandas as pd\n",
    "\n",
    "from sklearn.model_selection import KFold, cross_val_score\n",
    "from sklearn.linear_model import LinearRegression,Ridge, Lasso\n",
    "from sklearn.pipeline import Pipeline\n",
    "from sklearn.preprocessing import OneHotEncoder, StandardScaler, OrdinalEncoder\n",
    "from sklearn.compose import ColumnTransformer\n",
    "from sklearn.svm import SVR\n",
    "\n",
    "from sklearn.tree import DecisionTreeRegressor\n",
    "from sklearn.ensemble import RandomForestRegressor, GradientBoostingRegressor, AdaBoostRegressor, ExtraTreesRegressor\n",
    "from xgboost import XGBRegressor\n",
    "\n",
    "from sklearn.model_selection import train_test_split\n",
    "from sklearn.metrics import mean_absolute_error\n",
    "\n",
    "from sklearn.decomposition import PCA"
   ]
  },
  {
   "cell_type": "code",
   "execution_count": 2,
   "id": "82a92318-91b6-4ab6-baf5-ca2e4d1abd0b",
   "metadata": {
    "tags": []
   },
   "outputs": [],
   "source": [
    "df = pd.read_csv('properties_post_feature_selection_2.csv')"
   ]
  },
  {
   "cell_type": "code",
   "execution_count": 3,
   "id": "4dbcaa45-6a7f-48fa-b6df-24b1bd082d1e",
   "metadata": {
    "tags": []
   },
   "outputs": [
    {
     "data": {
      "text/html": [
       "<div>\n",
       "<style scoped>\n",
       "    .dataframe tbody tr th:only-of-type {\n",
       "        vertical-align: middle;\n",
       "    }\n",
       "\n",
       "    .dataframe tbody tr th {\n",
       "        vertical-align: top;\n",
       "    }\n",
       "\n",
       "    .dataframe thead th {\n",
       "        text-align: right;\n",
       "    }\n",
       "</style>\n",
       "<table border=\"1\" class=\"dataframe\">\n",
       "  <thead>\n",
       "    <tr style=\"text-align: right;\">\n",
       "      <th></th>\n",
       "      <th>property_type</th>\n",
       "      <th>sector</th>\n",
       "      <th>price</th>\n",
       "      <th>bedRoom</th>\n",
       "      <th>bathroom</th>\n",
       "      <th>balcony</th>\n",
       "      <th>agePossession</th>\n",
       "      <th>built_up_area</th>\n",
       "      <th>servant room</th>\n",
       "      <th>store room</th>\n",
       "      <th>furnishing_type</th>\n",
       "      <th>luxury_category</th>\n",
       "      <th>floor_category</th>\n",
       "    </tr>\n",
       "  </thead>\n",
       "  <tbody>\n",
       "    <tr>\n",
       "      <th>0</th>\n",
       "      <td>house</td>\n",
       "      <td>sohna road road</td>\n",
       "      <td>6.25</td>\n",
       "      <td>3.0</td>\n",
       "      <td>3.0</td>\n",
       "      <td>0</td>\n",
       "      <td>Moderately Old</td>\n",
       "      <td>9000.0</td>\n",
       "      <td>0.0</td>\n",
       "      <td>0.0</td>\n",
       "      <td>0.0</td>\n",
       "      <td>Low</td>\n",
       "      <td>Low Floor</td>\n",
       "    </tr>\n",
       "    <tr>\n",
       "      <th>1</th>\n",
       "      <td>flat</td>\n",
       "      <td>sector 103</td>\n",
       "      <td>1.15</td>\n",
       "      <td>2.0</td>\n",
       "      <td>2.0</td>\n",
       "      <td>3</td>\n",
       "      <td>Relatively New</td>\n",
       "      <td>1080.0</td>\n",
       "      <td>0.0</td>\n",
       "      <td>0.0</td>\n",
       "      <td>2.0</td>\n",
       "      <td>High</td>\n",
       "      <td>Mid Floor</td>\n",
       "    </tr>\n",
       "    <tr>\n",
       "      <th>2</th>\n",
       "      <td>flat</td>\n",
       "      <td>sector 102</td>\n",
       "      <td>1.45</td>\n",
       "      <td>3.0</td>\n",
       "      <td>3.0</td>\n",
       "      <td>3</td>\n",
       "      <td>Relatively New</td>\n",
       "      <td>1300.0</td>\n",
       "      <td>1.0</td>\n",
       "      <td>0.0</td>\n",
       "      <td>0.0</td>\n",
       "      <td>Low</td>\n",
       "      <td>Mid Floor</td>\n",
       "    </tr>\n",
       "    <tr>\n",
       "      <th>3</th>\n",
       "      <td>flat</td>\n",
       "      <td>sector 85</td>\n",
       "      <td>1.05</td>\n",
       "      <td>2.0</td>\n",
       "      <td>2.0</td>\n",
       "      <td>3+</td>\n",
       "      <td>Relatively New</td>\n",
       "      <td>1512.0</td>\n",
       "      <td>0.0</td>\n",
       "      <td>1.0</td>\n",
       "      <td>0.0</td>\n",
       "      <td>Medium</td>\n",
       "      <td>Mid Floor</td>\n",
       "    </tr>\n",
       "    <tr>\n",
       "      <th>4</th>\n",
       "      <td>house</td>\n",
       "      <td>sector 83</td>\n",
       "      <td>1.70</td>\n",
       "      <td>3.0</td>\n",
       "      <td>3.0</td>\n",
       "      <td>3+</td>\n",
       "      <td>New Property</td>\n",
       "      <td>2160.0</td>\n",
       "      <td>1.0</td>\n",
       "      <td>0.0</td>\n",
       "      <td>0.0</td>\n",
       "      <td>Low</td>\n",
       "      <td>Mid Floor</td>\n",
       "    </tr>\n",
       "  </tbody>\n",
       "</table>\n",
       "</div>"
      ],
      "text/plain": [
       "  property_type           sector  price  bedRoom  bathroom balcony  \\\n",
       "0         house  sohna road road   6.25      3.0       3.0       0   \n",
       "1          flat       sector 103   1.15      2.0       2.0       3   \n",
       "2          flat       sector 102   1.45      3.0       3.0       3   \n",
       "3          flat        sector 85   1.05      2.0       2.0      3+   \n",
       "4         house        sector 83   1.70      3.0       3.0      3+   \n",
       "\n",
       "    agePossession  built_up_area  servant room  store room  furnishing_type  \\\n",
       "0  Moderately Old         9000.0           0.0         0.0              0.0   \n",
       "1  Relatively New         1080.0           0.0         0.0              2.0   \n",
       "2  Relatively New         1300.0           1.0         0.0              0.0   \n",
       "3  Relatively New         1512.0           0.0         1.0              0.0   \n",
       "4    New Property         2160.0           1.0         0.0              0.0   \n",
       "\n",
       "  luxury_category floor_category  \n",
       "0             Low      Low Floor  \n",
       "1            High      Mid Floor  \n",
       "2             Low      Mid Floor  \n",
       "3          Medium      Mid Floor  \n",
       "4             Low      Mid Floor  "
      ]
     },
     "execution_count": 3,
     "metadata": {},
     "output_type": "execute_result"
    }
   ],
   "source": [
    "df.head()"
   ]
  },
  {
   "cell_type": "code",
   "execution_count": 4,
   "id": "88379d74-665f-4372-b53a-f9fc960ace46",
   "metadata": {
    "tags": []
   },
   "outputs": [],
   "source": [
    "df=df.drop(3550)\n",
    "df=df.drop(1811)"
   ]
  },
  {
   "cell_type": "code",
   "execution_count": 5,
   "id": "3e2e9d4c-b839-49c2-9077-707052f8544a",
   "metadata": {
    "tags": []
   },
   "outputs": [
    {
     "data": {
      "text/plain": [
       "furnishing_type\n",
       "0.0    2349\n",
       "2.0    1017\n",
       "1.0     186\n",
       "Name: count, dtype: int64"
      ]
     },
     "execution_count": 5,
     "metadata": {},
     "output_type": "execute_result"
    }
   ],
   "source": [
    "df['furnishing_type'].value_counts()"
   ]
  },
  {
   "cell_type": "code",
   "execution_count": 6,
   "id": "7f5d91d3-b393-432d-8b57-8ffcacb615ae",
   "metadata": {
    "tags": []
   },
   "outputs": [
    {
     "data": {
      "text/html": [
       "<div>\n",
       "<style scoped>\n",
       "    .dataframe tbody tr th:only-of-type {\n",
       "        vertical-align: middle;\n",
       "    }\n",
       "\n",
       "    .dataframe tbody tr th {\n",
       "        vertical-align: top;\n",
       "    }\n",
       "\n",
       "    .dataframe thead tr th {\n",
       "        text-align: left;\n",
       "    }\n",
       "\n",
       "    .dataframe thead tr:last-of-type th {\n",
       "        text-align: right;\n",
       "    }\n",
       "</style>\n",
       "<table border=\"1\" class=\"dataframe\">\n",
       "  <thead>\n",
       "    <tr>\n",
       "      <th></th>\n",
       "      <th colspan=\"3\" halign=\"left\">price</th>\n",
       "      <th colspan=\"3\" halign=\"left\">built_up_area</th>\n",
       "    </tr>\n",
       "    <tr>\n",
       "      <th></th>\n",
       "      <th>min</th>\n",
       "      <th>max</th>\n",
       "      <th>mean</th>\n",
       "      <th>min</th>\n",
       "      <th>max</th>\n",
       "      <th>mean</th>\n",
       "    </tr>\n",
       "    <tr>\n",
       "      <th>furnishing_type</th>\n",
       "      <th></th>\n",
       "      <th></th>\n",
       "      <th></th>\n",
       "      <th></th>\n",
       "      <th></th>\n",
       "      <th></th>\n",
       "    </tr>\n",
       "  </thead>\n",
       "  <tbody>\n",
       "    <tr>\n",
       "      <th>0.0</th>\n",
       "      <td>0.07</td>\n",
       "      <td>25.0</td>\n",
       "      <td>1.985913</td>\n",
       "      <td>33.0</td>\n",
       "      <td>12222.0</td>\n",
       "      <td>1712.013908</td>\n",
       "    </tr>\n",
       "    <tr>\n",
       "      <th>1.0</th>\n",
       "      <td>0.22</td>\n",
       "      <td>31.5</td>\n",
       "      <td>3.721237</td>\n",
       "      <td>60.0</td>\n",
       "      <td>9500.0</td>\n",
       "      <td>2286.818548</td>\n",
       "    </tr>\n",
       "    <tr>\n",
       "      <th>2.0</th>\n",
       "      <td>0.22</td>\n",
       "      <td>27.5</td>\n",
       "      <td>3.262498</td>\n",
       "      <td>50.0</td>\n",
       "      <td>11286.0</td>\n",
       "      <td>2131.531170</td>\n",
       "    </tr>\n",
       "  </tbody>\n",
       "</table>\n",
       "</div>"
      ],
      "text/plain": [
       "                price                 built_up_area                      \n",
       "                  min   max      mean           min      max         mean\n",
       "furnishing_type                                                          \n",
       "0.0              0.07  25.0  1.985913          33.0  12222.0  1712.013908\n",
       "1.0              0.22  31.5  3.721237          60.0   9500.0  2286.818548\n",
       "2.0              0.22  27.5  3.262498          50.0  11286.0  2131.531170"
      ]
     },
     "execution_count": 6,
     "metadata": {},
     "output_type": "execute_result"
    }
   ],
   "source": [
    "df.groupby(['furnishing_type']).agg({'price':['min','max','mean'],'built_up_area':['min','max','mean']})"
   ]
  },
  {
   "cell_type": "code",
   "execution_count": 7,
   "id": "e7c001a1-8b8a-4bdc-a8cb-4462a11e2c89",
   "metadata": {
    "tags": []
   },
   "outputs": [],
   "source": [
    "# 0 -> unfurnished\n",
    "# 2 -> semifurnished\n",
    "# 1 -> furnished\n",
    "df['furnishing_type'] = df['furnishing_type'].replace({0.0:'unfurnished',2.0:'semifurnished',1.0:'furnished'})"
   ]
  },
  {
   "cell_type": "code",
   "execution_count": 8,
   "id": "095738b0-2247-4e43-9bc2-7d76b73d906b",
   "metadata": {
    "tags": []
   },
   "outputs": [
    {
     "data": {
      "text/plain": [
       "furnishing_type\n",
       "unfurnished      2349\n",
       "semifurnished    1017\n",
       "furnished         186\n",
       "Name: count, dtype: int64"
      ]
     },
     "execution_count": 8,
     "metadata": {},
     "output_type": "execute_result"
    }
   ],
   "source": [
    "df['furnishing_type'].value_counts()"
   ]
  },
  {
   "cell_type": "code",
   "execution_count": 9,
   "id": "ffabe83d-f0b9-4200-8b7c-69865b967d70",
   "metadata": {
    "tags": []
   },
   "outputs": [
    {
     "data": {
      "text/html": [
       "<div>\n",
       "<style scoped>\n",
       "    .dataframe tbody tr th:only-of-type {\n",
       "        vertical-align: middle;\n",
       "    }\n",
       "\n",
       "    .dataframe tbody tr th {\n",
       "        vertical-align: top;\n",
       "    }\n",
       "\n",
       "    .dataframe thead th {\n",
       "        text-align: right;\n",
       "    }\n",
       "</style>\n",
       "<table border=\"1\" class=\"dataframe\">\n",
       "  <thead>\n",
       "    <tr style=\"text-align: right;\">\n",
       "      <th></th>\n",
       "      <th>property_type</th>\n",
       "      <th>sector</th>\n",
       "      <th>price</th>\n",
       "      <th>bedRoom</th>\n",
       "      <th>bathroom</th>\n",
       "      <th>balcony</th>\n",
       "      <th>agePossession</th>\n",
       "      <th>built_up_area</th>\n",
       "      <th>servant room</th>\n",
       "      <th>store room</th>\n",
       "      <th>furnishing_type</th>\n",
       "      <th>luxury_category</th>\n",
       "      <th>floor_category</th>\n",
       "    </tr>\n",
       "  </thead>\n",
       "  <tbody>\n",
       "    <tr>\n",
       "      <th>0</th>\n",
       "      <td>house</td>\n",
       "      <td>sohna road road</td>\n",
       "      <td>6.25</td>\n",
       "      <td>3.0</td>\n",
       "      <td>3.0</td>\n",
       "      <td>0</td>\n",
       "      <td>Moderately Old</td>\n",
       "      <td>9000.0</td>\n",
       "      <td>0.0</td>\n",
       "      <td>0.0</td>\n",
       "      <td>unfurnished</td>\n",
       "      <td>Low</td>\n",
       "      <td>Low Floor</td>\n",
       "    </tr>\n",
       "    <tr>\n",
       "      <th>1</th>\n",
       "      <td>flat</td>\n",
       "      <td>sector 103</td>\n",
       "      <td>1.15</td>\n",
       "      <td>2.0</td>\n",
       "      <td>2.0</td>\n",
       "      <td>3</td>\n",
       "      <td>Relatively New</td>\n",
       "      <td>1080.0</td>\n",
       "      <td>0.0</td>\n",
       "      <td>0.0</td>\n",
       "      <td>semifurnished</td>\n",
       "      <td>High</td>\n",
       "      <td>Mid Floor</td>\n",
       "    </tr>\n",
       "    <tr>\n",
       "      <th>2</th>\n",
       "      <td>flat</td>\n",
       "      <td>sector 102</td>\n",
       "      <td>1.45</td>\n",
       "      <td>3.0</td>\n",
       "      <td>3.0</td>\n",
       "      <td>3</td>\n",
       "      <td>Relatively New</td>\n",
       "      <td>1300.0</td>\n",
       "      <td>1.0</td>\n",
       "      <td>0.0</td>\n",
       "      <td>unfurnished</td>\n",
       "      <td>Low</td>\n",
       "      <td>Mid Floor</td>\n",
       "    </tr>\n",
       "    <tr>\n",
       "      <th>3</th>\n",
       "      <td>flat</td>\n",
       "      <td>sector 85</td>\n",
       "      <td>1.05</td>\n",
       "      <td>2.0</td>\n",
       "      <td>2.0</td>\n",
       "      <td>3+</td>\n",
       "      <td>Relatively New</td>\n",
       "      <td>1512.0</td>\n",
       "      <td>0.0</td>\n",
       "      <td>1.0</td>\n",
       "      <td>unfurnished</td>\n",
       "      <td>Medium</td>\n",
       "      <td>Mid Floor</td>\n",
       "    </tr>\n",
       "    <tr>\n",
       "      <th>4</th>\n",
       "      <td>house</td>\n",
       "      <td>sector 83</td>\n",
       "      <td>1.70</td>\n",
       "      <td>3.0</td>\n",
       "      <td>3.0</td>\n",
       "      <td>3+</td>\n",
       "      <td>New Property</td>\n",
       "      <td>2160.0</td>\n",
       "      <td>1.0</td>\n",
       "      <td>0.0</td>\n",
       "      <td>unfurnished</td>\n",
       "      <td>Low</td>\n",
       "      <td>Mid Floor</td>\n",
       "    </tr>\n",
       "  </tbody>\n",
       "</table>\n",
       "</div>"
      ],
      "text/plain": [
       "  property_type           sector  price  bedRoom  bathroom balcony  \\\n",
       "0         house  sohna road road   6.25      3.0       3.0       0   \n",
       "1          flat       sector 103   1.15      2.0       2.0       3   \n",
       "2          flat       sector 102   1.45      3.0       3.0       3   \n",
       "3          flat        sector 85   1.05      2.0       2.0      3+   \n",
       "4         house        sector 83   1.70      3.0       3.0      3+   \n",
       "\n",
       "    agePossession  built_up_area  servant room  store room furnishing_type  \\\n",
       "0  Moderately Old         9000.0           0.0         0.0     unfurnished   \n",
       "1  Relatively New         1080.0           0.0         0.0   semifurnished   \n",
       "2  Relatively New         1300.0           1.0         0.0     unfurnished   \n",
       "3  Relatively New         1512.0           0.0         1.0     unfurnished   \n",
       "4    New Property         2160.0           1.0         0.0     unfurnished   \n",
       "\n",
       "  luxury_category floor_category  \n",
       "0             Low      Low Floor  \n",
       "1            High      Mid Floor  \n",
       "2             Low      Mid Floor  \n",
       "3          Medium      Mid Floor  \n",
       "4             Low      Mid Floor  "
      ]
     },
     "execution_count": 9,
     "metadata": {},
     "output_type": "execute_result"
    }
   ],
   "source": [
    "df.head()"
   ]
  },
  {
   "cell_type": "code",
   "execution_count": 10,
   "id": "0eff249e-0c97-435c-a8aa-98cd63028b71",
   "metadata": {
    "tags": []
   },
   "outputs": [],
   "source": [
    "X = df.drop(columns=['price'])\n",
    "y = df['price']"
   ]
  },
  {
   "cell_type": "code",
   "execution_count": 11,
   "id": "d48a2aec-3291-4234-8545-4d456e1df873",
   "metadata": {
    "tags": []
   },
   "outputs": [],
   "source": [
    "# Applying the log1p transformation to the target variable\n",
    "y_transformed = np.log1p(y)"
   ]
  },
  {
   "cell_type": "code",
   "execution_count": null,
   "id": "fb3e6c52-ef42-46c4-b1e1-dcd58af5c9a5",
   "metadata": {},
   "outputs": [],
   "source": []
  },
  {
   "cell_type": "code",
   "execution_count": 12,
   "id": "df36f262-7d44-406a-8c25-81622732c227",
   "metadata": {
    "tags": []
   },
   "outputs": [],
   "source": [
    "# using different techniques for converting categorical features into numerical - ordinal coding, one hot coding, target encoding\n",
    "# will select the best method according to the best r2 score"
   ]
  },
  {
   "cell_type": "markdown",
   "id": "272c12a9-719f-4578-96d2-790d0d8ba881",
   "metadata": {},
   "source": [
    "## Ordinal Encoding"
   ]
  },
  {
   "cell_type": "code",
   "execution_count": 23,
   "id": "663d3ff1-7ddb-478e-8e7b-eb419c1bbcd2",
   "metadata": {
    "tags": []
   },
   "outputs": [],
   "source": [
    "columns_to_encode = ['property_type','sector', 'balcony', 'agePossession', 'furnishing_type', 'luxury_category', 'floor_category']"
   ]
  },
  {
   "cell_type": "code",
   "execution_count": 24,
   "id": "a9bb19ee-79ad-4a7d-a6af-d788bbd1f76f",
   "metadata": {
    "tags": []
   },
   "outputs": [],
   "source": [
    "# Creating a column transformer for preprocessing\n",
    "preprocessor = ColumnTransformer(\n",
    "    transformers=[\n",
    "        ('num', StandardScaler(), ['bedRoom', 'bathroom', 'built_up_area', 'servant room', 'store room']),\n",
    "        ('cat', OrdinalEncoder(), columns_to_encode)\n",
    "    ], \n",
    "    remainder='passthrough'\n",
    ")"
   ]
  },
  {
   "cell_type": "code",
   "execution_count": 25,
   "id": "f26c060e-5e8f-4fa9-a29f-306cb089a6a9",
   "metadata": {
    "tags": []
   },
   "outputs": [
    {
     "data": {
      "text/html": [
       "<style>#sk-container-id-1 {color: black;background-color: white;}#sk-container-id-1 pre{padding: 0;}#sk-container-id-1 div.sk-toggleable {background-color: white;}#sk-container-id-1 label.sk-toggleable__label {cursor: pointer;display: block;width: 100%;margin-bottom: 0;padding: 0.3em;box-sizing: border-box;text-align: center;}#sk-container-id-1 label.sk-toggleable__label-arrow:before {content: \"▸\";float: left;margin-right: 0.25em;color: #696969;}#sk-container-id-1 label.sk-toggleable__label-arrow:hover:before {color: black;}#sk-container-id-1 div.sk-estimator:hover label.sk-toggleable__label-arrow:before {color: black;}#sk-container-id-1 div.sk-toggleable__content {max-height: 0;max-width: 0;overflow: hidden;text-align: left;background-color: #f0f8ff;}#sk-container-id-1 div.sk-toggleable__content pre {margin: 0.2em;color: black;border-radius: 0.25em;background-color: #f0f8ff;}#sk-container-id-1 input.sk-toggleable__control:checked~div.sk-toggleable__content {max-height: 200px;max-width: 100%;overflow: auto;}#sk-container-id-1 input.sk-toggleable__control:checked~label.sk-toggleable__label-arrow:before {content: \"▾\";}#sk-container-id-1 div.sk-estimator input.sk-toggleable__control:checked~label.sk-toggleable__label {background-color: #d4ebff;}#sk-container-id-1 div.sk-label input.sk-toggleable__control:checked~label.sk-toggleable__label {background-color: #d4ebff;}#sk-container-id-1 input.sk-hidden--visually {border: 0;clip: rect(1px 1px 1px 1px);clip: rect(1px, 1px, 1px, 1px);height: 1px;margin: -1px;overflow: hidden;padding: 0;position: absolute;width: 1px;}#sk-container-id-1 div.sk-estimator {font-family: monospace;background-color: #f0f8ff;border: 1px dotted black;border-radius: 0.25em;box-sizing: border-box;margin-bottom: 0.5em;}#sk-container-id-1 div.sk-estimator:hover {background-color: #d4ebff;}#sk-container-id-1 div.sk-parallel-item::after {content: \"\";width: 100%;border-bottom: 1px solid gray;flex-grow: 1;}#sk-container-id-1 div.sk-label:hover label.sk-toggleable__label {background-color: #d4ebff;}#sk-container-id-1 div.sk-serial::before {content: \"\";position: absolute;border-left: 1px solid gray;box-sizing: border-box;top: 0;bottom: 0;left: 50%;z-index: 0;}#sk-container-id-1 div.sk-serial {display: flex;flex-direction: column;align-items: center;background-color: white;padding-right: 0.2em;padding-left: 0.2em;position: relative;}#sk-container-id-1 div.sk-item {position: relative;z-index: 1;}#sk-container-id-1 div.sk-parallel {display: flex;align-items: stretch;justify-content: center;background-color: white;position: relative;}#sk-container-id-1 div.sk-item::before, #sk-container-id-1 div.sk-parallel-item::before {content: \"\";position: absolute;border-left: 1px solid gray;box-sizing: border-box;top: 0;bottom: 0;left: 50%;z-index: -1;}#sk-container-id-1 div.sk-parallel-item {display: flex;flex-direction: column;z-index: 1;position: relative;background-color: white;}#sk-container-id-1 div.sk-parallel-item:first-child::after {align-self: flex-end;width: 50%;}#sk-container-id-1 div.sk-parallel-item:last-child::after {align-self: flex-start;width: 50%;}#sk-container-id-1 div.sk-parallel-item:only-child::after {width: 0;}#sk-container-id-1 div.sk-dashed-wrapped {border: 1px dashed gray;margin: 0 0.4em 0.5em 0.4em;box-sizing: border-box;padding-bottom: 0.4em;background-color: white;}#sk-container-id-1 div.sk-label label {font-family: monospace;font-weight: bold;display: inline-block;line-height: 1.2em;}#sk-container-id-1 div.sk-label-container {text-align: center;}#sk-container-id-1 div.sk-container {/* jupyter's `normalize.less` sets `[hidden] { display: none; }` but bootstrap.min.css set `[hidden] { display: none !important; }` so we also need the `!important` here to be able to override the default hidden behavior on the sphinx rendered scikit-learn.org. See: https://github.com/scikit-learn/scikit-learn/issues/21755 */display: inline-block !important;position: relative;}#sk-container-id-1 div.sk-text-repr-fallback {display: none;}</style><div id=\"sk-container-id-1\" class=\"sk-top-container\"><div class=\"sk-text-repr-fallback\"><pre>ColumnTransformer(remainder=&#x27;passthrough&#x27;,\n",
       "                  transformers=[(&#x27;num&#x27;, StandardScaler(),\n",
       "                                 [&#x27;bedRoom&#x27;, &#x27;bathroom&#x27;, &#x27;built_up_area&#x27;,\n",
       "                                  &#x27;servant room&#x27;, &#x27;store room&#x27;]),\n",
       "                                (&#x27;cat&#x27;, OrdinalEncoder(),\n",
       "                                 [&#x27;property_type&#x27;, &#x27;sector&#x27;, &#x27;balcony&#x27;,\n",
       "                                  &#x27;agePossession&#x27;, &#x27;furnishing_type&#x27;,\n",
       "                                  &#x27;luxury_category&#x27;, &#x27;floor_category&#x27;])])</pre><b>In a Jupyter environment, please rerun this cell to show the HTML representation or trust the notebook. <br />On GitHub, the HTML representation is unable to render, please try loading this page with nbviewer.org.</b></div><div class=\"sk-container\" hidden><div class=\"sk-item sk-dashed-wrapped\"><div class=\"sk-label-container\"><div class=\"sk-label sk-toggleable\"><input class=\"sk-toggleable__control sk-hidden--visually\" id=\"sk-estimator-id-1\" type=\"checkbox\" ><label for=\"sk-estimator-id-1\" class=\"sk-toggleable__label sk-toggleable__label-arrow\">ColumnTransformer</label><div class=\"sk-toggleable__content\"><pre>ColumnTransformer(remainder=&#x27;passthrough&#x27;,\n",
       "                  transformers=[(&#x27;num&#x27;, StandardScaler(),\n",
       "                                 [&#x27;bedRoom&#x27;, &#x27;bathroom&#x27;, &#x27;built_up_area&#x27;,\n",
       "                                  &#x27;servant room&#x27;, &#x27;store room&#x27;]),\n",
       "                                (&#x27;cat&#x27;, OrdinalEncoder(),\n",
       "                                 [&#x27;property_type&#x27;, &#x27;sector&#x27;, &#x27;balcony&#x27;,\n",
       "                                  &#x27;agePossession&#x27;, &#x27;furnishing_type&#x27;,\n",
       "                                  &#x27;luxury_category&#x27;, &#x27;floor_category&#x27;])])</pre></div></div></div><div class=\"sk-parallel\"><div class=\"sk-parallel-item\"><div class=\"sk-item\"><div class=\"sk-label-container\"><div class=\"sk-label sk-toggleable\"><input class=\"sk-toggleable__control sk-hidden--visually\" id=\"sk-estimator-id-2\" type=\"checkbox\" ><label for=\"sk-estimator-id-2\" class=\"sk-toggleable__label sk-toggleable__label-arrow\">num</label><div class=\"sk-toggleable__content\"><pre>[&#x27;bedRoom&#x27;, &#x27;bathroom&#x27;, &#x27;built_up_area&#x27;, &#x27;servant room&#x27;, &#x27;store room&#x27;]</pre></div></div></div><div class=\"sk-serial\"><div class=\"sk-item\"><div class=\"sk-estimator sk-toggleable\"><input class=\"sk-toggleable__control sk-hidden--visually\" id=\"sk-estimator-id-3\" type=\"checkbox\" ><label for=\"sk-estimator-id-3\" class=\"sk-toggleable__label sk-toggleable__label-arrow\">StandardScaler</label><div class=\"sk-toggleable__content\"><pre>StandardScaler()</pre></div></div></div></div></div></div><div class=\"sk-parallel-item\"><div class=\"sk-item\"><div class=\"sk-label-container\"><div class=\"sk-label sk-toggleable\"><input class=\"sk-toggleable__control sk-hidden--visually\" id=\"sk-estimator-id-4\" type=\"checkbox\" ><label for=\"sk-estimator-id-4\" class=\"sk-toggleable__label sk-toggleable__label-arrow\">cat</label><div class=\"sk-toggleable__content\"><pre>[&#x27;property_type&#x27;, &#x27;sector&#x27;, &#x27;balcony&#x27;, &#x27;agePossession&#x27;, &#x27;furnishing_type&#x27;, &#x27;luxury_category&#x27;, &#x27;floor_category&#x27;]</pre></div></div></div><div class=\"sk-serial\"><div class=\"sk-item\"><div class=\"sk-estimator sk-toggleable\"><input class=\"sk-toggleable__control sk-hidden--visually\" id=\"sk-estimator-id-5\" type=\"checkbox\" ><label for=\"sk-estimator-id-5\" class=\"sk-toggleable__label sk-toggleable__label-arrow\">OrdinalEncoder</label><div class=\"sk-toggleable__content\"><pre>OrdinalEncoder()</pre></div></div></div></div></div></div><div class=\"sk-parallel-item\"><div class=\"sk-item\"><div class=\"sk-label-container\"><div class=\"sk-label sk-toggleable\"><input class=\"sk-toggleable__control sk-hidden--visually\" id=\"sk-estimator-id-6\" type=\"checkbox\" ><label for=\"sk-estimator-id-6\" class=\"sk-toggleable__label sk-toggleable__label-arrow\">remainder</label><div class=\"sk-toggleable__content\"><pre></pre></div></div></div><div class=\"sk-serial\"><div class=\"sk-item\"><div class=\"sk-estimator sk-toggleable\"><input class=\"sk-toggleable__control sk-hidden--visually\" id=\"sk-estimator-id-7\" type=\"checkbox\" ><label for=\"sk-estimator-id-7\" class=\"sk-toggleable__label sk-toggleable__label-arrow\">passthrough</label><div class=\"sk-toggleable__content\"><pre>passthrough</pre></div></div></div></div></div></div></div></div></div></div>"
      ],
      "text/plain": [
       "ColumnTransformer(remainder='passthrough',\n",
       "                  transformers=[('num', StandardScaler(),\n",
       "                                 ['bedRoom', 'bathroom', 'built_up_area',\n",
       "                                  'servant room', 'store room']),\n",
       "                                ('cat', OrdinalEncoder(),\n",
       "                                 ['property_type', 'sector', 'balcony',\n",
       "                                  'agePossession', 'furnishing_type',\n",
       "                                  'luxury_category', 'floor_category'])])"
      ]
     },
     "execution_count": 25,
     "metadata": {},
     "output_type": "execute_result"
    }
   ],
   "source": [
    "preprocessor"
   ]
  },
  {
   "cell_type": "code",
   "execution_count": 26,
   "id": "c5a5aa25-a055-48bd-aa0c-b38d8e05173a",
   "metadata": {
    "tags": []
   },
   "outputs": [],
   "source": [
    "# Creating a pipeline\n",
    "pipeline = Pipeline([\n",
    "    ('preprocessor', preprocessor),\n",
    "    ('regressor', LinearRegression())\n",
    "])"
   ]
  },
  {
   "cell_type": "code",
   "execution_count": 27,
   "id": "e31de6c5-1118-49b7-ab7c-c837f083b508",
   "metadata": {
    "tags": []
   },
   "outputs": [],
   "source": [
    "# K-fold cross-validation\n",
    "kfold = KFold(n_splits=10, shuffle=True, random_state=0)\n",
    "scores = cross_val_score(pipeline, X, y_transformed, cv=kfold, scoring='r2')"
   ]
  },
  {
   "cell_type": "code",
   "execution_count": 28,
   "id": "0d93458f-10ed-4f7d-aa4c-2f59cb4fda93",
   "metadata": {
    "tags": []
   },
   "outputs": [
    {
     "data": {
      "text/plain": [
       "(0.7354609694920144, 0.025774910592173326)"
      ]
     },
     "execution_count": 28,
     "metadata": {},
     "output_type": "execute_result"
    }
   ],
   "source": [
    "scores.mean(),scores.std()"
   ]
  },
  {
   "cell_type": "code",
   "execution_count": 29,
   "id": "6dae3ccb-a9ce-4164-837c-943b946f377f",
   "metadata": {
    "tags": []
   },
   "outputs": [],
   "source": [
    "X_train, X_test, y_train, y_test = train_test_split(X,y_transformed,test_size=0.2,random_state=0)"
   ]
  },
  {
   "cell_type": "code",
   "execution_count": 30,
   "id": "1446dc79-df5b-49c9-b215-4ea74834dd55",
   "metadata": {
    "tags": []
   },
   "outputs": [
    {
     "data": {
      "text/html": [
       "<style>#sk-container-id-2 {color: black;background-color: white;}#sk-container-id-2 pre{padding: 0;}#sk-container-id-2 div.sk-toggleable {background-color: white;}#sk-container-id-2 label.sk-toggleable__label {cursor: pointer;display: block;width: 100%;margin-bottom: 0;padding: 0.3em;box-sizing: border-box;text-align: center;}#sk-container-id-2 label.sk-toggleable__label-arrow:before {content: \"▸\";float: left;margin-right: 0.25em;color: #696969;}#sk-container-id-2 label.sk-toggleable__label-arrow:hover:before {color: black;}#sk-container-id-2 div.sk-estimator:hover label.sk-toggleable__label-arrow:before {color: black;}#sk-container-id-2 div.sk-toggleable__content {max-height: 0;max-width: 0;overflow: hidden;text-align: left;background-color: #f0f8ff;}#sk-container-id-2 div.sk-toggleable__content pre {margin: 0.2em;color: black;border-radius: 0.25em;background-color: #f0f8ff;}#sk-container-id-2 input.sk-toggleable__control:checked~div.sk-toggleable__content {max-height: 200px;max-width: 100%;overflow: auto;}#sk-container-id-2 input.sk-toggleable__control:checked~label.sk-toggleable__label-arrow:before {content: \"▾\";}#sk-container-id-2 div.sk-estimator input.sk-toggleable__control:checked~label.sk-toggleable__label {background-color: #d4ebff;}#sk-container-id-2 div.sk-label input.sk-toggleable__control:checked~label.sk-toggleable__label {background-color: #d4ebff;}#sk-container-id-2 input.sk-hidden--visually {border: 0;clip: rect(1px 1px 1px 1px);clip: rect(1px, 1px, 1px, 1px);height: 1px;margin: -1px;overflow: hidden;padding: 0;position: absolute;width: 1px;}#sk-container-id-2 div.sk-estimator {font-family: monospace;background-color: #f0f8ff;border: 1px dotted black;border-radius: 0.25em;box-sizing: border-box;margin-bottom: 0.5em;}#sk-container-id-2 div.sk-estimator:hover {background-color: #d4ebff;}#sk-container-id-2 div.sk-parallel-item::after {content: \"\";width: 100%;border-bottom: 1px solid gray;flex-grow: 1;}#sk-container-id-2 div.sk-label:hover label.sk-toggleable__label {background-color: #d4ebff;}#sk-container-id-2 div.sk-serial::before {content: \"\";position: absolute;border-left: 1px solid gray;box-sizing: border-box;top: 0;bottom: 0;left: 50%;z-index: 0;}#sk-container-id-2 div.sk-serial {display: flex;flex-direction: column;align-items: center;background-color: white;padding-right: 0.2em;padding-left: 0.2em;position: relative;}#sk-container-id-2 div.sk-item {position: relative;z-index: 1;}#sk-container-id-2 div.sk-parallel {display: flex;align-items: stretch;justify-content: center;background-color: white;position: relative;}#sk-container-id-2 div.sk-item::before, #sk-container-id-2 div.sk-parallel-item::before {content: \"\";position: absolute;border-left: 1px solid gray;box-sizing: border-box;top: 0;bottom: 0;left: 50%;z-index: -1;}#sk-container-id-2 div.sk-parallel-item {display: flex;flex-direction: column;z-index: 1;position: relative;background-color: white;}#sk-container-id-2 div.sk-parallel-item:first-child::after {align-self: flex-end;width: 50%;}#sk-container-id-2 div.sk-parallel-item:last-child::after {align-self: flex-start;width: 50%;}#sk-container-id-2 div.sk-parallel-item:only-child::after {width: 0;}#sk-container-id-2 div.sk-dashed-wrapped {border: 1px dashed gray;margin: 0 0.4em 0.5em 0.4em;box-sizing: border-box;padding-bottom: 0.4em;background-color: white;}#sk-container-id-2 div.sk-label label {font-family: monospace;font-weight: bold;display: inline-block;line-height: 1.2em;}#sk-container-id-2 div.sk-label-container {text-align: center;}#sk-container-id-2 div.sk-container {/* jupyter's `normalize.less` sets `[hidden] { display: none; }` but bootstrap.min.css set `[hidden] { display: none !important; }` so we also need the `!important` here to be able to override the default hidden behavior on the sphinx rendered scikit-learn.org. See: https://github.com/scikit-learn/scikit-learn/issues/21755 */display: inline-block !important;position: relative;}#sk-container-id-2 div.sk-text-repr-fallback {display: none;}</style><div id=\"sk-container-id-2\" class=\"sk-top-container\"><div class=\"sk-text-repr-fallback\"><pre>Pipeline(steps=[(&#x27;preprocessor&#x27;,\n",
       "                 ColumnTransformer(remainder=&#x27;passthrough&#x27;,\n",
       "                                   transformers=[(&#x27;num&#x27;, StandardScaler(),\n",
       "                                                  [&#x27;bedRoom&#x27;, &#x27;bathroom&#x27;,\n",
       "                                                   &#x27;built_up_area&#x27;,\n",
       "                                                   &#x27;servant room&#x27;,\n",
       "                                                   &#x27;store room&#x27;]),\n",
       "                                                 (&#x27;cat&#x27;, OrdinalEncoder(),\n",
       "                                                  [&#x27;property_type&#x27;, &#x27;sector&#x27;,\n",
       "                                                   &#x27;balcony&#x27;, &#x27;agePossession&#x27;,\n",
       "                                                   &#x27;furnishing_type&#x27;,\n",
       "                                                   &#x27;luxury_category&#x27;,\n",
       "                                                   &#x27;floor_category&#x27;])])),\n",
       "                (&#x27;regressor&#x27;, LinearRegression())])</pre><b>In a Jupyter environment, please rerun this cell to show the HTML representation or trust the notebook. <br />On GitHub, the HTML representation is unable to render, please try loading this page with nbviewer.org.</b></div><div class=\"sk-container\" hidden><div class=\"sk-item sk-dashed-wrapped\"><div class=\"sk-label-container\"><div class=\"sk-label sk-toggleable\"><input class=\"sk-toggleable__control sk-hidden--visually\" id=\"sk-estimator-id-8\" type=\"checkbox\" ><label for=\"sk-estimator-id-8\" class=\"sk-toggleable__label sk-toggleable__label-arrow\">Pipeline</label><div class=\"sk-toggleable__content\"><pre>Pipeline(steps=[(&#x27;preprocessor&#x27;,\n",
       "                 ColumnTransformer(remainder=&#x27;passthrough&#x27;,\n",
       "                                   transformers=[(&#x27;num&#x27;, StandardScaler(),\n",
       "                                                  [&#x27;bedRoom&#x27;, &#x27;bathroom&#x27;,\n",
       "                                                   &#x27;built_up_area&#x27;,\n",
       "                                                   &#x27;servant room&#x27;,\n",
       "                                                   &#x27;store room&#x27;]),\n",
       "                                                 (&#x27;cat&#x27;, OrdinalEncoder(),\n",
       "                                                  [&#x27;property_type&#x27;, &#x27;sector&#x27;,\n",
       "                                                   &#x27;balcony&#x27;, &#x27;agePossession&#x27;,\n",
       "                                                   &#x27;furnishing_type&#x27;,\n",
       "                                                   &#x27;luxury_category&#x27;,\n",
       "                                                   &#x27;floor_category&#x27;])])),\n",
       "                (&#x27;regressor&#x27;, LinearRegression())])</pre></div></div></div><div class=\"sk-serial\"><div class=\"sk-item sk-dashed-wrapped\"><div class=\"sk-label-container\"><div class=\"sk-label sk-toggleable\"><input class=\"sk-toggleable__control sk-hidden--visually\" id=\"sk-estimator-id-9\" type=\"checkbox\" ><label for=\"sk-estimator-id-9\" class=\"sk-toggleable__label sk-toggleable__label-arrow\">preprocessor: ColumnTransformer</label><div class=\"sk-toggleable__content\"><pre>ColumnTransformer(remainder=&#x27;passthrough&#x27;,\n",
       "                  transformers=[(&#x27;num&#x27;, StandardScaler(),\n",
       "                                 [&#x27;bedRoom&#x27;, &#x27;bathroom&#x27;, &#x27;built_up_area&#x27;,\n",
       "                                  &#x27;servant room&#x27;, &#x27;store room&#x27;]),\n",
       "                                (&#x27;cat&#x27;, OrdinalEncoder(),\n",
       "                                 [&#x27;property_type&#x27;, &#x27;sector&#x27;, &#x27;balcony&#x27;,\n",
       "                                  &#x27;agePossession&#x27;, &#x27;furnishing_type&#x27;,\n",
       "                                  &#x27;luxury_category&#x27;, &#x27;floor_category&#x27;])])</pre></div></div></div><div class=\"sk-parallel\"><div class=\"sk-parallel-item\"><div class=\"sk-item\"><div class=\"sk-label-container\"><div class=\"sk-label sk-toggleable\"><input class=\"sk-toggleable__control sk-hidden--visually\" id=\"sk-estimator-id-10\" type=\"checkbox\" ><label for=\"sk-estimator-id-10\" class=\"sk-toggleable__label sk-toggleable__label-arrow\">num</label><div class=\"sk-toggleable__content\"><pre>[&#x27;bedRoom&#x27;, &#x27;bathroom&#x27;, &#x27;built_up_area&#x27;, &#x27;servant room&#x27;, &#x27;store room&#x27;]</pre></div></div></div><div class=\"sk-serial\"><div class=\"sk-item\"><div class=\"sk-estimator sk-toggleable\"><input class=\"sk-toggleable__control sk-hidden--visually\" id=\"sk-estimator-id-11\" type=\"checkbox\" ><label for=\"sk-estimator-id-11\" class=\"sk-toggleable__label sk-toggleable__label-arrow\">StandardScaler</label><div class=\"sk-toggleable__content\"><pre>StandardScaler()</pre></div></div></div></div></div></div><div class=\"sk-parallel-item\"><div class=\"sk-item\"><div class=\"sk-label-container\"><div class=\"sk-label sk-toggleable\"><input class=\"sk-toggleable__control sk-hidden--visually\" id=\"sk-estimator-id-12\" type=\"checkbox\" ><label for=\"sk-estimator-id-12\" class=\"sk-toggleable__label sk-toggleable__label-arrow\">cat</label><div class=\"sk-toggleable__content\"><pre>[&#x27;property_type&#x27;, &#x27;sector&#x27;, &#x27;balcony&#x27;, &#x27;agePossession&#x27;, &#x27;furnishing_type&#x27;, &#x27;luxury_category&#x27;, &#x27;floor_category&#x27;]</pre></div></div></div><div class=\"sk-serial\"><div class=\"sk-item\"><div class=\"sk-estimator sk-toggleable\"><input class=\"sk-toggleable__control sk-hidden--visually\" id=\"sk-estimator-id-13\" type=\"checkbox\" ><label for=\"sk-estimator-id-13\" class=\"sk-toggleable__label sk-toggleable__label-arrow\">OrdinalEncoder</label><div class=\"sk-toggleable__content\"><pre>OrdinalEncoder()</pre></div></div></div></div></div></div><div class=\"sk-parallel-item\"><div class=\"sk-item\"><div class=\"sk-label-container\"><div class=\"sk-label sk-toggleable\"><input class=\"sk-toggleable__control sk-hidden--visually\" id=\"sk-estimator-id-14\" type=\"checkbox\" ><label for=\"sk-estimator-id-14\" class=\"sk-toggleable__label sk-toggleable__label-arrow\">remainder</label><div class=\"sk-toggleable__content\"><pre>[]</pre></div></div></div><div class=\"sk-serial\"><div class=\"sk-item\"><div class=\"sk-estimator sk-toggleable\"><input class=\"sk-toggleable__control sk-hidden--visually\" id=\"sk-estimator-id-15\" type=\"checkbox\" ><label for=\"sk-estimator-id-15\" class=\"sk-toggleable__label sk-toggleable__label-arrow\">passthrough</label><div class=\"sk-toggleable__content\"><pre>passthrough</pre></div></div></div></div></div></div></div></div><div class=\"sk-item\"><div class=\"sk-estimator sk-toggleable\"><input class=\"sk-toggleable__control sk-hidden--visually\" id=\"sk-estimator-id-16\" type=\"checkbox\" ><label for=\"sk-estimator-id-16\" class=\"sk-toggleable__label sk-toggleable__label-arrow\">LinearRegression</label><div class=\"sk-toggleable__content\"><pre>LinearRegression()</pre></div></div></div></div></div></div></div>"
      ],
      "text/plain": [
       "Pipeline(steps=[('preprocessor',\n",
       "                 ColumnTransformer(remainder='passthrough',\n",
       "                                   transformers=[('num', StandardScaler(),\n",
       "                                                  ['bedRoom', 'bathroom',\n",
       "                                                   'built_up_area',\n",
       "                                                   'servant room',\n",
       "                                                   'store room']),\n",
       "                                                 ('cat', OrdinalEncoder(),\n",
       "                                                  ['property_type', 'sector',\n",
       "                                                   'balcony', 'agePossession',\n",
       "                                                   'furnishing_type',\n",
       "                                                   'luxury_category',\n",
       "                                                   'floor_category'])])),\n",
       "                ('regressor', LinearRegression())])"
      ]
     },
     "execution_count": 30,
     "metadata": {},
     "output_type": "execute_result"
    }
   ],
   "source": [
    "pipeline.fit(X_train,y_train)"
   ]
  },
  {
   "cell_type": "code",
   "execution_count": 31,
   "id": "b9647f3d-3372-4e7c-9a4e-207b20869449",
   "metadata": {
    "tags": []
   },
   "outputs": [],
   "source": [
    "y_pred = pipeline.predict(X_test)"
   ]
  },
  {
   "cell_type": "code",
   "execution_count": 32,
   "id": "772f7461-671c-4336-8507-f5b5a11f6e25",
   "metadata": {
    "tags": []
   },
   "outputs": [],
   "source": [
    "y_pred = np.expm1(y_pred)"
   ]
  },
  {
   "cell_type": "code",
   "execution_count": 33,
   "id": "78bf4180-aec0-4d95-b61f-6a6ac302c698",
   "metadata": {
    "tags": []
   },
   "outputs": [
    {
     "data": {
      "text/plain": [
       "0.9812235946643183"
      ]
     },
     "execution_count": 33,
     "metadata": {},
     "output_type": "execute_result"
    }
   ],
   "source": [
    "mean_absolute_error(np.expm1(y_test),y_pred)"
   ]
  },
  {
   "cell_type": "code",
   "execution_count": null,
   "id": "c1989cf0-97bd-4735-bf6c-2d3e8bcb6895",
   "metadata": {},
   "outputs": [],
   "source": []
  },
  {
   "cell_type": "code",
   "execution_count": 34,
   "id": "4a90b228-a602-45aa-a734-6b9cafe2cb8d",
   "metadata": {
    "tags": []
   },
   "outputs": [],
   "source": [
    "def scorer(model_name, model):\n",
    "    \n",
    "    output = []\n",
    "    \n",
    "    output.append(model_name)\n",
    "    \n",
    "    pipeline = Pipeline([\n",
    "        ('preprocessor', preprocessor),\n",
    "        ('regressor', model)\n",
    "    ])\n",
    "    \n",
    "    # K-fold cross-validation\n",
    "    kfold = KFold(n_splits=10, shuffle=True, random_state=0)\n",
    "    scores = cross_val_score(pipeline, X, y_transformed, cv=kfold, scoring='r2')\n",
    "    \n",
    "    output.append(scores.mean())\n",
    "    \n",
    "    X_train, X_test, y_train, y_test = train_test_split(X,y_transformed,test_size=0.2,random_state=0)\n",
    "    \n",
    "    pipeline.fit(X_train,y_train)\n",
    "    \n",
    "    y_pred = pipeline.predict(X_test)\n",
    "    \n",
    "    y_pred = np.expm1(y_pred)\n",
    "    \n",
    "    output.append(mean_absolute_error(np.expm1(y_test),y_pred))\n",
    "    \n",
    "    return output"
   ]
  },
  {
   "cell_type": "code",
   "execution_count": 35,
   "id": "07b46212-a89f-45f3-a3ee-46511ba68a2f",
   "metadata": {
    "tags": []
   },
   "outputs": [],
   "source": [
    "model_dict = {\n",
    "    'linear_reg':LinearRegression(),\n",
    "    'svr':SVR(),\n",
    "    'ridge':Ridge(),\n",
    "    'LASSO':Lasso(),\n",
    "    'decision tree': DecisionTreeRegressor(),\n",
    "    'random forest':RandomForestRegressor(),\n",
    "    'extra trees': ExtraTreesRegressor(),\n",
    "    'gradient boosting': GradientBoostingRegressor(),\n",
    "    'adaboost': AdaBoostRegressor(),\n",
    "    'xgboost':XGBRegressor()\n",
    "}"
   ]
  },
  {
   "cell_type": "code",
   "execution_count": 36,
   "id": "b707af34-2e18-4c8d-9ba0-7662a9dd07d6",
   "metadata": {
    "tags": []
   },
   "outputs": [],
   "source": [
    "model_output = []\n",
    "for model_name,model in model_dict.items():\n",
    "    model_output.append(scorer(model_name, model))"
   ]
  },
  {
   "cell_type": "code",
   "execution_count": 37,
   "id": "ed59b165-81c1-47bb-85f6-6f42985554e6",
   "metadata": {
    "tags": []
   },
   "outputs": [
    {
     "data": {
      "text/plain": [
       "[['linear_reg', 0.7354609694920144, 0.9812235946643183],\n",
       " ['svr', 0.7600500359013339, 0.8185147025735151],\n",
       " ['ridge', 0.735467418836192, 0.9810273517517252],\n",
       " ['LASSO', 0.05584704359722818, 1.5528445689941066],\n",
       " ['decision tree', 0.7792983969455557, 0.738460467115715],\n",
       " ['random forest', 0.8800210368159739, 0.5266131586266349],\n",
       " ['extra trees', 0.868544138149774, 0.5706542368936577],\n",
       " ['gradient boosting', 0.8744611904269114, 0.5617532302838001],\n",
       " ['adaboost', 0.7576256175676208, 0.8796313199912619],\n",
       " ['xgboost', 0.8938239984191126, 0.5278002761017254]]"
      ]
     },
     "execution_count": 37,
     "metadata": {},
     "output_type": "execute_result"
    }
   ],
   "source": [
    "model_output"
   ]
  },
  {
   "cell_type": "code",
   "execution_count": 38,
   "id": "b23ee052-128b-4af1-aefe-6f03c0cbcbef",
   "metadata": {
    "tags": []
   },
   "outputs": [],
   "source": [
    "model_df = pd.DataFrame(model_output, columns=['name','r2','mae'])"
   ]
  },
  {
   "cell_type": "code",
   "execution_count": 39,
   "id": "43525c78-8d76-4b69-af63-f866c5d66bb0",
   "metadata": {
    "tags": []
   },
   "outputs": [
    {
     "data": {
      "text/html": [
       "<div>\n",
       "<style scoped>\n",
       "    .dataframe tbody tr th:only-of-type {\n",
       "        vertical-align: middle;\n",
       "    }\n",
       "\n",
       "    .dataframe tbody tr th {\n",
       "        vertical-align: top;\n",
       "    }\n",
       "\n",
       "    .dataframe thead th {\n",
       "        text-align: right;\n",
       "    }\n",
       "</style>\n",
       "<table border=\"1\" class=\"dataframe\">\n",
       "  <thead>\n",
       "    <tr style=\"text-align: right;\">\n",
       "      <th></th>\n",
       "      <th>name</th>\n",
       "      <th>r2</th>\n",
       "      <th>mae</th>\n",
       "    </tr>\n",
       "  </thead>\n",
       "  <tbody>\n",
       "    <tr>\n",
       "      <th>5</th>\n",
       "      <td>random forest</td>\n",
       "      <td>0.880021</td>\n",
       "      <td>0.526613</td>\n",
       "    </tr>\n",
       "    <tr>\n",
       "      <th>9</th>\n",
       "      <td>xgboost</td>\n",
       "      <td>0.893824</td>\n",
       "      <td>0.527800</td>\n",
       "    </tr>\n",
       "    <tr>\n",
       "      <th>7</th>\n",
       "      <td>gradient boosting</td>\n",
       "      <td>0.874461</td>\n",
       "      <td>0.561753</td>\n",
       "    </tr>\n",
       "    <tr>\n",
       "      <th>6</th>\n",
       "      <td>extra trees</td>\n",
       "      <td>0.868544</td>\n",
       "      <td>0.570654</td>\n",
       "    </tr>\n",
       "    <tr>\n",
       "      <th>4</th>\n",
       "      <td>decision tree</td>\n",
       "      <td>0.779298</td>\n",
       "      <td>0.738460</td>\n",
       "    </tr>\n",
       "    <tr>\n",
       "      <th>1</th>\n",
       "      <td>svr</td>\n",
       "      <td>0.760050</td>\n",
       "      <td>0.818515</td>\n",
       "    </tr>\n",
       "    <tr>\n",
       "      <th>8</th>\n",
       "      <td>adaboost</td>\n",
       "      <td>0.757626</td>\n",
       "      <td>0.879631</td>\n",
       "    </tr>\n",
       "    <tr>\n",
       "      <th>2</th>\n",
       "      <td>ridge</td>\n",
       "      <td>0.735467</td>\n",
       "      <td>0.981027</td>\n",
       "    </tr>\n",
       "    <tr>\n",
       "      <th>0</th>\n",
       "      <td>linear_reg</td>\n",
       "      <td>0.735461</td>\n",
       "      <td>0.981224</td>\n",
       "    </tr>\n",
       "    <tr>\n",
       "      <th>3</th>\n",
       "      <td>LASSO</td>\n",
       "      <td>0.055847</td>\n",
       "      <td>1.552845</td>\n",
       "    </tr>\n",
       "  </tbody>\n",
       "</table>\n",
       "</div>"
      ],
      "text/plain": [
       "                name        r2       mae\n",
       "5      random forest  0.880021  0.526613\n",
       "9            xgboost  0.893824  0.527800\n",
       "7  gradient boosting  0.874461  0.561753\n",
       "6        extra trees  0.868544  0.570654\n",
       "4      decision tree  0.779298  0.738460\n",
       "1                svr  0.760050  0.818515\n",
       "8           adaboost  0.757626  0.879631\n",
       "2              ridge  0.735467  0.981027\n",
       "0         linear_reg  0.735461  0.981224\n",
       "3              LASSO  0.055847  1.552845"
      ]
     },
     "execution_count": 39,
     "metadata": {},
     "output_type": "execute_result"
    }
   ],
   "source": [
    "model_df.sort_values(['mae'])"
   ]
  },
  {
   "cell_type": "code",
   "execution_count": 40,
   "id": "6db6efa6-21f6-40de-b115-df740ef7860d",
   "metadata": {
    "tags": []
   },
   "outputs": [
    {
     "data": {
      "image/png": "[encoded data removed]",
      "text/plain": [
       "<Figure size 1200x800 with 1 Axes>"
      ]
     },
     "metadata": {},
     "output_type": "display_data"
    }
   ],
   "source": [
    "import seaborn as sns\n",
    "import matplotlib.pyplot as plt\n",
    "\n",
    "plt.figure(figsize=(12,8))\n",
    "ax = sns.barplot(x='name', y='r2',\n",
    "                  data=model_df.sort_values(['r2'],ascending=False),\n",
    "                 errwidth=0)\n",
    "plt.xticks(rotation=20)\n",
    "plt.title(\"R2 Score of Different Models\", fontweight='bold',size=12)\n",
    "plt.xlabel(\"Model Name\", fontweight='bold',size=12)\n",
    "plt.ylabel(\"R2 Score\", fontweight='bold',size=12)\n",
    "for i in ax.containers:\n",
    "    ax.bar_label(i,padding=3)\n",
    "plt.show() "
   ]
  },
  {
   "cell_type": "code",
   "execution_count": null,
   "id": "163e24cb-4d6b-4a57-80ec-16da1757e476",
   "metadata": {
    "tags": []
   },
   "outputs": [],
   "source": []
  },
  {
   "cell_type": "markdown",
   "id": "c4720319-23c2-488b-869b-c2f5b5478321",
   "metadata": {},
   "source": [
    "## OneHotEncoding"
   ]
  },
  {
   "cell_type": "code",
   "execution_count": 41,
   "id": "249998ab-5aac-49de-80df-5d0f50bd37be",
   "metadata": {
    "tags": []
   },
   "outputs": [],
   "source": [
    "# Creating a column transformer for preprocessing\n",
    "preprocessor = ColumnTransformer(\n",
    "    transformers=[\n",
    "        ('num', StandardScaler(), ['bedRoom', 'bathroom', 'built_up_area', 'servant room', 'store room']),\n",
    "        ('cat', OrdinalEncoder(), columns_to_encode),\n",
    "        ('cat1',OneHotEncoder(drop='first'),['sector','agePossession','furnishing_type'])\n",
    "    ], \n",
    "    remainder='passthrough'\n",
    ")"
   ]
  },
  {
   "cell_type": "code",
   "execution_count": 42,
   "id": "878e00f3-3ae8-4caa-9236-c62099206cd5",
   "metadata": {
    "tags": []
   },
   "outputs": [],
   "source": [
    "# Creating a pipeline\n",
    "pipeline = Pipeline([\n",
    "    ('preprocessor', preprocessor),\n",
    "    ('regressor', LinearRegression())\n",
    "])"
   ]
  },
  {
   "cell_type": "code",
   "execution_count": 43,
   "id": "73d1d1fa-a00a-48f5-9f41-844a2428ce32",
   "metadata": {
    "tags": []
   },
   "outputs": [],
   "source": [
    "# K-fold cross-validation\n",
    "kfold = KFold(n_splits=10, shuffle=True, random_state=0)\n",
    "scores = cross_val_score(pipeline, X, y_transformed, cv=kfold, scoring='r2')"
   ]
  },
  {
   "cell_type": "code",
   "execution_count": 44,
   "id": "608f0b69-0fce-4e1d-958a-d0705e74ab31",
   "metadata": {
    "tags": []
   },
   "outputs": [
    {
     "data": {
      "text/plain": [
       "0.8536814433161073"
      ]
     },
     "execution_count": 44,
     "metadata": {},
     "output_type": "execute_result"
    }
   ],
   "source": [
    "scores.mean()"
   ]
  },
  {
   "cell_type": "code",
   "execution_count": 45,
   "id": "20861b57-b6f9-4f23-ba07-eae0796dc5d8",
   "metadata": {
    "tags": []
   },
   "outputs": [
    {
     "data": {
      "text/plain": [
       "0.01945545327774775"
      ]
     },
     "execution_count": 45,
     "metadata": {},
     "output_type": "execute_result"
    }
   ],
   "source": [
    "scores.std()"
   ]
  },
  {
   "cell_type": "code",
   "execution_count": 46,
   "id": "19a8e67a-6fef-4238-a93a-08b41150d520",
   "metadata": {
    "tags": []
   },
   "outputs": [],
   "source": [
    "X_train, X_test, y_train, y_test = train_test_split(X,y_transformed,test_size=0.2,random_state=0)"
   ]
  },
  {
   "cell_type": "code",
   "execution_count": 47,
   "id": "dc3b44ae-6143-4033-a5af-0fa0539dfbf5",
   "metadata": {
    "tags": []
   },
   "outputs": [
    {
     "data": {
      "text/html": [
       "<style>#sk-container-id-3 {color: black;background-color: white;}#sk-container-id-3 pre{padding: 0;}#sk-container-id-3 div.sk-toggleable {background-color: white;}#sk-container-id-3 label.sk-toggleable__label {cursor: pointer;display: block;width: 100%;margin-bottom: 0;padding: 0.3em;box-sizing: border-box;text-align: center;}#sk-container-id-3 label.sk-toggleable__label-arrow:before {content: \"▸\";float: left;margin-right: 0.25em;color: #696969;}#sk-container-id-3 label.sk-toggleable__label-arrow:hover:before {color: black;}#sk-container-id-3 div.sk-estimator:hover label.sk-toggleable__label-arrow:before {color: black;}#sk-container-id-3 div.sk-toggleable__content {max-height: 0;max-width: 0;overflow: hidden;text-align: left;background-color: #f0f8ff;}#sk-container-id-3 div.sk-toggleable__content pre {margin: 0.2em;color: black;border-radius: 0.25em;background-color: #f0f8ff;}#sk-container-id-3 input.sk-toggleable__control:checked~div.sk-toggleable__content {max-height: 200px;max-width: 100%;overflow: auto;}#sk-container-id-3 input.sk-toggleable__control:checked~label.sk-toggleable__label-arrow:before {content: \"▾\";}#sk-container-id-3 div.sk-estimator input.sk-toggleable__control:checked~label.sk-toggleable__label {background-color: #d4ebff;}#sk-container-id-3 div.sk-label input.sk-toggleable__control:checked~label.sk-toggleable__label {background-color: #d4ebff;}#sk-container-id-3 input.sk-hidden--visually {border: 0;clip: rect(1px 1px 1px 1px);clip: rect(1px, 1px, 1px, 1px);height: 1px;margin: -1px;overflow: hidden;padding: 0;position: absolute;width: 1px;}#sk-container-id-3 div.sk-estimator {font-family: monospace;background-color: #f0f8ff;border: 1px dotted black;border-radius: 0.25em;box-sizing: border-box;margin-bottom: 0.5em;}#sk-container-id-3 div.sk-estimator:hover {background-color: #d4ebff;}#sk-container-id-3 div.sk-parallel-item::after {content: \"\";width: 100%;border-bottom: 1px solid gray;flex-grow: 1;}#sk-container-id-3 div.sk-label:hover label.sk-toggleable__label {background-color: #d4ebff;}#sk-container-id-3 div.sk-serial::before {content: \"\";position: absolute;border-left: 1px solid gray;box-sizing: border-box;top: 0;bottom: 0;left: 50%;z-index: 0;}#sk-container-id-3 div.sk-serial {display: flex;flex-direction: column;align-items: center;background-color: white;padding-right: 0.2em;padding-left: 0.2em;position: relative;}#sk-container-id-3 div.sk-item {position: relative;z-index: 1;}#sk-container-id-3 div.sk-parallel {display: flex;align-items: stretch;justify-content: center;background-color: white;position: relative;}#sk-container-id-3 div.sk-item::before, #sk-container-id-3 div.sk-parallel-item::before {content: \"\";position: absolute;border-left: 1px solid gray;box-sizing: border-box;top: 0;bottom: 0;left: 50%;z-index: -1;}#sk-container-id-3 div.sk-parallel-item {display: flex;flex-direction: column;z-index: 1;position: relative;background-color: white;}#sk-container-id-3 div.sk-parallel-item:first-child::after {align-self: flex-end;width: 50%;}#sk-container-id-3 div.sk-parallel-item:last-child::after {align-self: flex-start;width: 50%;}#sk-container-id-3 div.sk-parallel-item:only-child::after {width: 0;}#sk-container-id-3 div.sk-dashed-wrapped {border: 1px dashed gray;margin: 0 0.4em 0.5em 0.4em;box-sizing: border-box;padding-bottom: 0.4em;background-color: white;}#sk-container-id-3 div.sk-label label {font-family: monospace;font-weight: bold;display: inline-block;line-height: 1.2em;}#sk-container-id-3 div.sk-label-container {text-align: center;}#sk-container-id-3 div.sk-container {/* jupyter's `normalize.less` sets `[hidden] { display: none; }` but bootstrap.min.css set `[hidden] { display: none !important; }` so we also need the `!important` here to be able to override the default hidden behavior on the sphinx rendered scikit-learn.org. See: https://github.com/scikit-learn/scikit-learn/issues/21755 */display: inline-block !important;position: relative;}#sk-container-id-3 div.sk-text-repr-fallback {display: none;}</style><div id=\"sk-container-id-3\" class=\"sk-top-container\"><div class=\"sk-text-repr-fallback\"><pre>Pipeline(steps=[(&#x27;preprocessor&#x27;,\n",
       "                 ColumnTransformer(remainder=&#x27;passthrough&#x27;,\n",
       "                                   transformers=[(&#x27;num&#x27;, StandardScaler(),\n",
       "                                                  [&#x27;bedRoom&#x27;, &#x27;bathroom&#x27;,\n",
       "                                                   &#x27;built_up_area&#x27;,\n",
       "                                                   &#x27;servant room&#x27;,\n",
       "                                                   &#x27;store room&#x27;]),\n",
       "                                                 (&#x27;cat&#x27;, OrdinalEncoder(),\n",
       "                                                  [&#x27;property_type&#x27;, &#x27;sector&#x27;,\n",
       "                                                   &#x27;balcony&#x27;, &#x27;agePossession&#x27;,\n",
       "                                                   &#x27;furnishing_type&#x27;,\n",
       "                                                   &#x27;luxury_category&#x27;,\n",
       "                                                   &#x27;floor_category&#x27;]),\n",
       "                                                 (&#x27;cat1&#x27;,\n",
       "                                                  OneHotEncoder(drop=&#x27;first&#x27;),\n",
       "                                                  [&#x27;sector&#x27;, &#x27;agePossession&#x27;,\n",
       "                                                   &#x27;furnishing_type&#x27;])])),\n",
       "                (&#x27;regressor&#x27;, LinearRegression())])</pre><b>In a Jupyter environment, please rerun this cell to show the HTML representation or trust the notebook. <br />On GitHub, the HTML representation is unable to render, please try loading this page with nbviewer.org.</b></div><div class=\"sk-container\" hidden><div class=\"sk-item sk-dashed-wrapped\"><div class=\"sk-label-container\"><div class=\"sk-label sk-toggleable\"><input class=\"sk-toggleable__control sk-hidden--visually\" id=\"sk-estimator-id-17\" type=\"checkbox\" ><label for=\"sk-estimator-id-17\" class=\"sk-toggleable__label sk-toggleable__label-arrow\">Pipeline</label><div class=\"sk-toggleable__content\"><pre>Pipeline(steps=[(&#x27;preprocessor&#x27;,\n",
       "                 ColumnTransformer(remainder=&#x27;passthrough&#x27;,\n",
       "                                   transformers=[(&#x27;num&#x27;, StandardScaler(),\n",
       "                                                  [&#x27;bedRoom&#x27;, &#x27;bathroom&#x27;,\n",
       "                                                   &#x27;built_up_area&#x27;,\n",
       "                                                   &#x27;servant room&#x27;,\n",
       "                                                   &#x27;store room&#x27;]),\n",
       "                                                 (&#x27;cat&#x27;, OrdinalEncoder(),\n",
       "                                                  [&#x27;property_type&#x27;, &#x27;sector&#x27;,\n",
       "                                                   &#x27;balcony&#x27;, &#x27;agePossession&#x27;,\n",
       "                                                   &#x27;furnishing_type&#x27;,\n",
       "                                                   &#x27;luxury_category&#x27;,\n",
       "                                                   &#x27;floor_category&#x27;]),\n",
       "                                                 (&#x27;cat1&#x27;,\n",
       "                                                  OneHotEncoder(drop=&#x27;first&#x27;),\n",
       "                                                  [&#x27;sector&#x27;, &#x27;agePossession&#x27;,\n",
       "                                                   &#x27;furnishing_type&#x27;])])),\n",
       "                (&#x27;regressor&#x27;, LinearRegression())])</pre></div></div></div><div class=\"sk-serial\"><div class=\"sk-item sk-dashed-wrapped\"><div class=\"sk-label-container\"><div class=\"sk-label sk-toggleable\"><input class=\"sk-toggleable__control sk-hidden--visually\" id=\"sk-estimator-id-18\" type=\"checkbox\" ><label for=\"sk-estimator-id-18\" class=\"sk-toggleable__label sk-toggleable__label-arrow\">preprocessor: ColumnTransformer</label><div class=\"sk-toggleable__content\"><pre>ColumnTransformer(remainder=&#x27;passthrough&#x27;,\n",
       "                  transformers=[(&#x27;num&#x27;, StandardScaler(),\n",
       "                                 [&#x27;bedRoom&#x27;, &#x27;bathroom&#x27;, &#x27;built_up_area&#x27;,\n",
       "                                  &#x27;servant room&#x27;, &#x27;store room&#x27;]),\n",
       "                                (&#x27;cat&#x27;, OrdinalEncoder(),\n",
       "                                 [&#x27;property_type&#x27;, &#x27;sector&#x27;, &#x27;balcony&#x27;,\n",
       "                                  &#x27;agePossession&#x27;, &#x27;furnishing_type&#x27;,\n",
       "                                  &#x27;luxury_category&#x27;, &#x27;floor_category&#x27;]),\n",
       "                                (&#x27;cat1&#x27;, OneHotEncoder(drop=&#x27;first&#x27;),\n",
       "                                 [&#x27;sector&#x27;, &#x27;agePossession&#x27;,\n",
       "                                  &#x27;furnishing_type&#x27;])])</pre></div></div></div><div class=\"sk-parallel\"><div class=\"sk-parallel-item\"><div class=\"sk-item\"><div class=\"sk-label-container\"><div class=\"sk-label sk-toggleable\"><input class=\"sk-toggleable__control sk-hidden--visually\" id=\"sk-estimator-id-19\" type=\"checkbox\" ><label for=\"sk-estimator-id-19\" class=\"sk-toggleable__label sk-toggleable__label-arrow\">num</label><div class=\"sk-toggleable__content\"><pre>[&#x27;bedRoom&#x27;, &#x27;bathroom&#x27;, &#x27;built_up_area&#x27;, &#x27;servant room&#x27;, &#x27;store room&#x27;]</pre></div></div></div><div class=\"sk-serial\"><div class=\"sk-item\"><div class=\"sk-estimator sk-toggleable\"><input class=\"sk-toggleable__control sk-hidden--visually\" id=\"sk-estimator-id-20\" type=\"checkbox\" ><label for=\"sk-estimator-id-20\" class=\"sk-toggleable__label sk-toggleable__label-arrow\">StandardScaler</label><div class=\"sk-toggleable__content\"><pre>StandardScaler()</pre></div></div></div></div></div></div><div class=\"sk-parallel-item\"><div class=\"sk-item\"><div class=\"sk-label-container\"><div class=\"sk-label sk-toggleable\"><input class=\"sk-toggleable__control sk-hidden--visually\" id=\"sk-estimator-id-21\" type=\"checkbox\" ><label for=\"sk-estimator-id-21\" class=\"sk-toggleable__label sk-toggleable__label-arrow\">cat</label><div class=\"sk-toggleable__content\"><pre>[&#x27;property_type&#x27;, &#x27;sector&#x27;, &#x27;balcony&#x27;, &#x27;agePossession&#x27;, &#x27;furnishing_type&#x27;, &#x27;luxury_category&#x27;, &#x27;floor_category&#x27;]</pre></div></div></div><div class=\"sk-serial\"><div class=\"sk-item\"><div class=\"sk-estimator sk-toggleable\"><input class=\"sk-toggleable__control sk-hidden--visually\" id=\"sk-estimator-id-22\" type=\"checkbox\" ><label for=\"sk-estimator-id-22\" class=\"sk-toggleable__label sk-toggleable__label-arrow\">OrdinalEncoder</label><div class=\"sk-toggleable__content\"><pre>OrdinalEncoder()</pre></div></div></div></div></div></div><div class=\"sk-parallel-item\"><div class=\"sk-item\"><div class=\"sk-label-container\"><div class=\"sk-label sk-toggleable\"><input class=\"sk-toggleable__control sk-hidden--visually\" id=\"sk-estimator-id-23\" type=\"checkbox\" ><label for=\"sk-estimator-id-23\" class=\"sk-toggleable__label sk-toggleable__label-arrow\">cat1</label><div class=\"sk-toggleable__content\"><pre>[&#x27;sector&#x27;, &#x27;agePossession&#x27;, &#x27;furnishing_type&#x27;]</pre></div></div></div><div class=\"sk-serial\"><div class=\"sk-item\"><div class=\"sk-estimator sk-toggleable\"><input class=\"sk-toggleable__control sk-hidden--visually\" id=\"sk-estimator-id-24\" type=\"checkbox\" ><label for=\"sk-estimator-id-24\" class=\"sk-toggleable__label sk-toggleable__label-arrow\">OneHotEncoder</label><div class=\"sk-toggleable__content\"><pre>OneHotEncoder(drop=&#x27;first&#x27;)</pre></div></div></div></div></div></div><div class=\"sk-parallel-item\"><div class=\"sk-item\"><div class=\"sk-label-container\"><div class=\"sk-label sk-toggleable\"><input class=\"sk-toggleable__control sk-hidden--visually\" id=\"sk-estimator-id-25\" type=\"checkbox\" ><label for=\"sk-estimator-id-25\" class=\"sk-toggleable__label sk-toggleable__label-arrow\">remainder</label><div class=\"sk-toggleable__content\"><pre>[]</pre></div></div></div><div class=\"sk-serial\"><div class=\"sk-item\"><div class=\"sk-estimator sk-toggleable\"><input class=\"sk-toggleable__control sk-hidden--visually\" id=\"sk-estimator-id-26\" type=\"checkbox\" ><label for=\"sk-estimator-id-26\" class=\"sk-toggleable__label sk-toggleable__label-arrow\">passthrough</label><div class=\"sk-toggleable__content\"><pre>passthrough</pre></div></div></div></div></div></div></div></div><div class=\"sk-item\"><div class=\"sk-estimator sk-toggleable\"><input class=\"sk-toggleable__control sk-hidden--visually\" id=\"sk-estimator-id-27\" type=\"checkbox\" ><label for=\"sk-estimator-id-27\" class=\"sk-toggleable__label sk-toggleable__label-arrow\">LinearRegression</label><div class=\"sk-toggleable__content\"><pre>LinearRegression()</pre></div></div></div></div></div></div></div>"
      ],
      "text/plain": [
       "Pipeline(steps=[('preprocessor',\n",
       "                 ColumnTransformer(remainder='passthrough',\n",
       "                                   transformers=[('num', StandardScaler(),\n",
       "                                                  ['bedRoom', 'bathroom',\n",
       "                                                   'built_up_area',\n",
       "                                                   'servant room',\n",
       "                                                   'store room']),\n",
       "                                                 ('cat', OrdinalEncoder(),\n",
       "                                                  ['property_type', 'sector',\n",
       "                                                   'balcony', 'agePossession',\n",
       "                                                   'furnishing_type',\n",
       "                                                   'luxury_category',\n",
       "                                                   'floor_category']),\n",
       "                                                 ('cat1',\n",
       "                                                  OneHotEncoder(drop='first'),\n",
       "                                                  ['sector', 'agePossession',\n",
       "                                                   'furnishing_type'])])),\n",
       "                ('regressor', LinearRegression())])"
      ]
     },
     "execution_count": 47,
     "metadata": {},
     "output_type": "execute_result"
    }
   ],
   "source": [
    "pipeline.fit(X_train,y_train)"
   ]
  },
  {
   "cell_type": "code",
   "execution_count": 48,
   "id": "08fb03a3-54c0-4ce9-aa20-9f514e0ace69",
   "metadata": {
    "tags": []
   },
   "outputs": [],
   "source": [
    "y_pred = pipeline.predict(X_test)"
   ]
  },
  {
   "cell_type": "code",
   "execution_count": 49,
   "id": "fa709c22-8f90-434e-a33a-2ea5328f2855",
   "metadata": {
    "tags": []
   },
   "outputs": [],
   "source": [
    "y_pred = np.expm1(y_pred)"
   ]
  },
  {
   "cell_type": "code",
   "execution_count": 50,
   "id": "ca683442-9529-4fe6-a23d-1bdfd2ba9573",
   "metadata": {
    "tags": []
   },
   "outputs": [
    {
     "data": {
      "text/plain": [
       "0.6909923904785414"
      ]
     },
     "execution_count": 50,
     "metadata": {},
     "output_type": "execute_result"
    }
   ],
   "source": [
    "mean_absolute_error(np.expm1(y_test),y_pred)"
   ]
  },
  {
   "cell_type": "code",
   "execution_count": 51,
   "id": "da4eef3d-51e3-441b-8d6b-f424832e1afa",
   "metadata": {
    "tags": []
   },
   "outputs": [],
   "source": [
    "def scorer(model_name, model):\n",
    "    \n",
    "    output = []\n",
    "    \n",
    "    output.append(model_name)\n",
    "    \n",
    "    pipeline = Pipeline([\n",
    "        ('preprocessor', preprocessor),\n",
    "        ('regressor', model)\n",
    "    ])\n",
    "    \n",
    "    # K-fold cross-validation\n",
    "    kfold = KFold(n_splits=10, shuffle=True, random_state=0)\n",
    "    scores = cross_val_score(pipeline, X, y_transformed, cv=kfold, scoring='r2')\n",
    "    \n",
    "    output.append(scores.mean())\n",
    "    \n",
    "    X_train, X_test, y_train, y_test = train_test_split(X,y_transformed,test_size=0.2,random_state=42)\n",
    "    \n",
    "    pipeline.fit(X_train,y_train)\n",
    "    \n",
    "    y_pred = pipeline.predict(X_test)\n",
    "    \n",
    "    y_pred = np.expm1(y_pred)\n",
    "    \n",
    "    output.append(mean_absolute_error(np.expm1(y_test),y_pred))\n",
    "    \n",
    "    return output\n",
    "    "
   ]
  },
  {
   "cell_type": "code",
   "execution_count": 52,
   "id": "a412c731-4ab8-403d-b9fa-468b59370269",
   "metadata": {
    "tags": []
   },
   "outputs": [],
   "source": [
    "model_dict = {\n",
    "    'linear_reg':LinearRegression(),\n",
    "    'svr':SVR(),\n",
    "    'ridge':Ridge(),\n",
    "    'LASSO':Lasso(),\n",
    "    'decision tree': DecisionTreeRegressor(),\n",
    "    'random forest':RandomForestRegressor(),\n",
    "    'extra trees': ExtraTreesRegressor(),\n",
    "    'gradient boosting': GradientBoostingRegressor(),\n",
    "    'adaboost': AdaBoostRegressor(),\n",
    "    'xgboost':XGBRegressor()\n",
    "}"
   ]
  },
  {
   "cell_type": "code",
   "execution_count": 53,
   "id": "cc5b000f-db45-469f-8127-aee8540fc7f2",
   "metadata": {
    "tags": []
   },
   "outputs": [],
   "source": [
    "model_output = []\n",
    "for model_name,model in model_dict.items():\n",
    "    model_output.append(scorer(model_name, model))"
   ]
  },
  {
   "cell_type": "code",
   "execution_count": 54,
   "id": "091b2980-455a-4f0f-94e9-091dc3416ba9",
   "metadata": {
    "tags": []
   },
   "outputs": [],
   "source": [
    "model_df = pd.DataFrame(model_output, columns=['name','r2','mae'])"
   ]
  },
  {
   "cell_type": "code",
   "execution_count": 55,
   "id": "ee72cdd0-d69c-4872-9be3-9c6f866eece5",
   "metadata": {
    "tags": []
   },
   "outputs": [
    {
     "data": {
      "text/html": [
       "<div>\n",
       "<style scoped>\n",
       "    .dataframe tbody tr th:only-of-type {\n",
       "        vertical-align: middle;\n",
       "    }\n",
       "\n",
       "    .dataframe tbody tr th {\n",
       "        vertical-align: top;\n",
       "    }\n",
       "\n",
       "    .dataframe thead th {\n",
       "        text-align: right;\n",
       "    }\n",
       "</style>\n",
       "<table border=\"1\" class=\"dataframe\">\n",
       "  <thead>\n",
       "    <tr style=\"text-align: right;\">\n",
       "      <th></th>\n",
       "      <th>name</th>\n",
       "      <th>r2</th>\n",
       "      <th>mae</th>\n",
       "    </tr>\n",
       "  </thead>\n",
       "  <tbody>\n",
       "    <tr>\n",
       "      <th>6</th>\n",
       "      <td>extra trees</td>\n",
       "      <td>0.891866</td>\n",
       "      <td>0.514288</td>\n",
       "    </tr>\n",
       "    <tr>\n",
       "      <th>9</th>\n",
       "      <td>xgboost</td>\n",
       "      <td>0.896834</td>\n",
       "      <td>0.540108</td>\n",
       "    </tr>\n",
       "    <tr>\n",
       "      <th>5</th>\n",
       "      <td>random forest</td>\n",
       "      <td>0.889443</td>\n",
       "      <td>0.553715</td>\n",
       "    </tr>\n",
       "    <tr>\n",
       "      <th>7</th>\n",
       "      <td>gradient boosting</td>\n",
       "      <td>0.873835</td>\n",
       "      <td>0.601703</td>\n",
       "    </tr>\n",
       "    <tr>\n",
       "      <th>0</th>\n",
       "      <td>linear_reg</td>\n",
       "      <td>0.853681</td>\n",
       "      <td>0.666281</td>\n",
       "    </tr>\n",
       "    <tr>\n",
       "      <th>2</th>\n",
       "      <td>ridge</td>\n",
       "      <td>0.854039</td>\n",
       "      <td>0.672152</td>\n",
       "    </tr>\n",
       "    <tr>\n",
       "      <th>4</th>\n",
       "      <td>decision tree</td>\n",
       "      <td>0.805810</td>\n",
       "      <td>0.704788</td>\n",
       "    </tr>\n",
       "    <tr>\n",
       "      <th>8</th>\n",
       "      <td>adaboost</td>\n",
       "      <td>0.754174</td>\n",
       "      <td>0.895916</td>\n",
       "    </tr>\n",
       "    <tr>\n",
       "      <th>1</th>\n",
       "      <td>svr</td>\n",
       "      <td>0.763707</td>\n",
       "      <td>0.908407</td>\n",
       "    </tr>\n",
       "    <tr>\n",
       "      <th>3</th>\n",
       "      <td>LASSO</td>\n",
       "      <td>0.055847</td>\n",
       "      <td>1.566611</td>\n",
       "    </tr>\n",
       "  </tbody>\n",
       "</table>\n",
       "</div>"
      ],
      "text/plain": [
       "                name        r2       mae\n",
       "6        extra trees  0.891866  0.514288\n",
       "9            xgboost  0.896834  0.540108\n",
       "5      random forest  0.889443  0.553715\n",
       "7  gradient boosting  0.873835  0.601703\n",
       "0         linear_reg  0.853681  0.666281\n",
       "2              ridge  0.854039  0.672152\n",
       "4      decision tree  0.805810  0.704788\n",
       "8           adaboost  0.754174  0.895916\n",
       "1                svr  0.763707  0.908407\n",
       "3              LASSO  0.055847  1.566611"
      ]
     },
     "execution_count": 55,
     "metadata": {},
     "output_type": "execute_result"
    }
   ],
   "source": [
    "model_df.sort_values(['mae'])"
   ]
  },
  {
   "cell_type": "code",
   "execution_count": 56,
   "id": "e50fdcad-7c6f-41cc-a547-9c8d87b18468",
   "metadata": {
    "tags": []
   },
   "outputs": [
    {
     "data": {
      "image/png": "[encoded data removed]",
      "text/plain": [
       "<Figure size 1200x800 with 1 Axes>"
      ]
     },
     "metadata": {},
     "output_type": "display_data"
    }
   ],
   "source": [
    "plt.figure(figsize=(12,8))\n",
    "ax = sns.barplot(x='name', y='r2',\n",
    "                  data=model_df.sort_values(['r2'],ascending=False),\n",
    "                 errwidth=0)\n",
    "plt.xticks(rotation=20)\n",
    "plt.title(\"R2 Score of Different Models\", fontweight='bold',size=12)\n",
    "plt.xlabel(\"Model Name\", fontweight='bold',size=12)\n",
    "plt.ylabel(\"R2 Score\", fontweight='bold',size=12)\n",
    "for i in ax.containers:\n",
    "    ax.bar_label(i,padding=3)\n",
    "plt.show() "
   ]
  },
  {
   "cell_type": "code",
   "execution_count": null,
   "id": "35c7576d-066b-42c6-880b-2714178f4556",
   "metadata": {},
   "outputs": [],
   "source": []
  },
  {
   "cell_type": "markdown",
   "id": "32b09e84-5e1b-4d1e-828c-f76a056f3e30",
   "metadata": {},
   "source": [
    "## Target Encoder"
   ]
  },
  {
   "cell_type": "code",
   "execution_count": 57,
   "id": "3ad2b062-4700-41ea-8777-cf7be4173450",
   "metadata": {
    "tags": []
   },
   "outputs": [],
   "source": [
    "import category_encoders as ce\n",
    "\n",
    "columns_to_encode = ['property_type','sector', 'balcony', 'agePossession', 'furnishing_type', 'luxury_category', 'floor_category']\n",
    "\n",
    "# Creating a column transformer for preprocessing\n",
    "preprocessor = ColumnTransformer(\n",
    "    transformers=[\n",
    "        ('num', StandardScaler(), ['bedRoom', 'bathroom', 'built_up_area', 'servant room', 'store room']),\n",
    "        ('cat', OrdinalEncoder(), columns_to_encode),\n",
    "        ('cat1',OneHotEncoder(drop='first',sparse_output=False),['agePossession']),\n",
    "        ('target_enc', ce.TargetEncoder(), ['sector'])\n",
    "    ], \n",
    "    remainder='passthrough'\n",
    ")"
   ]
  },
  {
   "cell_type": "code",
   "execution_count": 58,
   "id": "0a3c22ca-d687-41a5-9cf6-f696b371c7cb",
   "metadata": {
    "tags": []
   },
   "outputs": [],
   "source": [
    "# Creating a pipeline\n",
    "pipeline = Pipeline([\n",
    "    ('preprocessor', preprocessor),\n",
    "    ('regressor', LinearRegression())\n",
    "])"
   ]
  },
  {
   "cell_type": "code",
   "execution_count": 59,
   "id": "845d08bd-59d3-4504-a8b4-bd6f085a0fd6",
   "metadata": {
    "tags": []
   },
   "outputs": [],
   "source": [
    "# K-fold cross-validation\n",
    "kfold = KFold(n_splits=10, shuffle=True, random_state=0)\n",
    "scores = cross_val_score(pipeline, X, y_transformed, cv=kfold, scoring='r2')"
   ]
  },
  {
   "cell_type": "code",
   "execution_count": 60,
   "id": "cc79b287-a902-4a43-bb8b-9d6d584a0f3b",
   "metadata": {
    "tags": []
   },
   "outputs": [
    {
     "data": {
      "text/plain": [
       "(0.825224198193229, 0.020164889573665107)"
      ]
     },
     "execution_count": 60,
     "metadata": {},
     "output_type": "execute_result"
    }
   ],
   "source": [
    "scores.mean(),scores.std()"
   ]
  },
  {
   "cell_type": "code",
   "execution_count": 61,
   "id": "62eff8cb-5228-49a1-825d-0d45e83e0e88",
   "metadata": {
    "tags": []
   },
   "outputs": [],
   "source": [
    "def scorer(model_name, model):\n",
    "    \n",
    "    output = []\n",
    "    \n",
    "    output.append(model_name)\n",
    "    \n",
    "    pipeline = Pipeline([\n",
    "        ('preprocessor', preprocessor),\n",
    "        ('regressor', model)\n",
    "    ])\n",
    "    \n",
    "    # K-fold cross-validation\n",
    "    kfold = KFold(n_splits=10, shuffle=True, random_state=0)\n",
    "    scores = cross_val_score(pipeline, X, y_transformed, cv=kfold, scoring='r2')\n",
    "    \n",
    "    output.append(scores.mean())\n",
    "    \n",
    "    X_train, X_test, y_train, y_test = train_test_split(X,y_transformed,test_size=0.2,random_state=42)\n",
    "    \n",
    "    pipeline.fit(X_train,y_train)\n",
    "    \n",
    "    y_pred = pipeline.predict(X_test)\n",
    "    \n",
    "    y_pred = np.expm1(y_pred)\n",
    "    \n",
    "    output.append(mean_absolute_error(np.expm1(y_test),y_pred))\n",
    "    \n",
    "    return output"
   ]
  },
  {
   "cell_type": "code",
   "execution_count": 62,
   "id": "3336485b-996c-497c-b87c-65861da81abf",
   "metadata": {
    "tags": []
   },
   "outputs": [],
   "source": [
    "model_dict = {\n",
    "    'linear_reg':LinearRegression(),\n",
    "    'svr':SVR(),\n",
    "    'ridge':Ridge(),\n",
    "    'LASSO':Lasso(),\n",
    "    'decision tree': DecisionTreeRegressor(),\n",
    "    'random forest':RandomForestRegressor(),\n",
    "    'extra trees': ExtraTreesRegressor(),\n",
    "    'gradient boosting': GradientBoostingRegressor(),\n",
    "    'adaboost': AdaBoostRegressor(),\n",
    "    'xgboost':XGBRegressor()\n",
    "}"
   ]
  },
  {
   "cell_type": "code",
   "execution_count": 63,
   "id": "7c894f0e-abbe-4e74-9dfe-135a1182b331",
   "metadata": {
    "tags": []
   },
   "outputs": [],
   "source": [
    "model_output = []\n",
    "for model_name,model in model_dict.items():\n",
    "    model_output.append(scorer(model_name, model))"
   ]
  },
  {
   "cell_type": "code",
   "execution_count": 64,
   "id": "ed7e4207-67c5-4690-b1c6-bff72a67697a",
   "metadata": {
    "tags": []
   },
   "outputs": [],
   "source": [
    "model_df = pd.DataFrame(model_output, columns=['name','r2','mae'])"
   ]
  },
  {
   "cell_type": "code",
   "execution_count": 65,
   "id": "5e25d3b2-43fb-4219-ad39-8efb04f394b1",
   "metadata": {
    "tags": []
   },
   "outputs": [
    {
     "data": {
      "text/html": [
       "<div>\n",
       "<style scoped>\n",
       "    .dataframe tbody tr th:only-of-type {\n",
       "        vertical-align: middle;\n",
       "    }\n",
       "\n",
       "    .dataframe tbody tr th {\n",
       "        vertical-align: top;\n",
       "    }\n",
       "\n",
       "    .dataframe thead th {\n",
       "        text-align: right;\n",
       "    }\n",
       "</style>\n",
       "<table border=\"1\" class=\"dataframe\">\n",
       "  <thead>\n",
       "    <tr style=\"text-align: right;\">\n",
       "      <th></th>\n",
       "      <th>name</th>\n",
       "      <th>r2</th>\n",
       "      <th>mae</th>\n",
       "    </tr>\n",
       "  </thead>\n",
       "  <tbody>\n",
       "    <tr>\n",
       "      <th>5</th>\n",
       "      <td>random forest</td>\n",
       "      <td>0.899764</td>\n",
       "      <td>0.490590</td>\n",
       "    </tr>\n",
       "    <tr>\n",
       "      <th>9</th>\n",
       "      <td>xgboost</td>\n",
       "      <td>0.897217</td>\n",
       "      <td>0.494816</td>\n",
       "    </tr>\n",
       "    <tr>\n",
       "      <th>6</th>\n",
       "      <td>extra trees</td>\n",
       "      <td>0.900240</td>\n",
       "      <td>0.505126</td>\n",
       "    </tr>\n",
       "    <tr>\n",
       "      <th>7</th>\n",
       "      <td>gradient boosting</td>\n",
       "      <td>0.887534</td>\n",
       "      <td>0.574864</td>\n",
       "    </tr>\n",
       "    <tr>\n",
       "      <th>4</th>\n",
       "      <td>decision tree</td>\n",
       "      <td>0.817376</td>\n",
       "      <td>0.629468</td>\n",
       "    </tr>\n",
       "    <tr>\n",
       "      <th>0</th>\n",
       "      <td>linear_reg</td>\n",
       "      <td>0.825224</td>\n",
       "      <td>0.748356</td>\n",
       "    </tr>\n",
       "    <tr>\n",
       "      <th>2</th>\n",
       "      <td>ridge</td>\n",
       "      <td>0.825248</td>\n",
       "      <td>0.748685</td>\n",
       "    </tr>\n",
       "    <tr>\n",
       "      <th>8</th>\n",
       "      <td>adaboost</td>\n",
       "      <td>0.819912</td>\n",
       "      <td>0.762058</td>\n",
       "    </tr>\n",
       "    <tr>\n",
       "      <th>1</th>\n",
       "      <td>svr</td>\n",
       "      <td>0.776952</td>\n",
       "      <td>0.892042</td>\n",
       "    </tr>\n",
       "    <tr>\n",
       "      <th>3</th>\n",
       "      <td>LASSO</td>\n",
       "      <td>0.055847</td>\n",
       "      <td>1.566611</td>\n",
       "    </tr>\n",
       "  </tbody>\n",
       "</table>\n",
       "</div>"
      ],
      "text/plain": [
       "                name        r2       mae\n",
       "5      random forest  0.899764  0.490590\n",
       "9            xgboost  0.897217  0.494816\n",
       "6        extra trees  0.900240  0.505126\n",
       "7  gradient boosting  0.887534  0.574864\n",
       "4      decision tree  0.817376  0.629468\n",
       "0         linear_reg  0.825224  0.748356\n",
       "2              ridge  0.825248  0.748685\n",
       "8           adaboost  0.819912  0.762058\n",
       "1                svr  0.776952  0.892042\n",
       "3              LASSO  0.055847  1.566611"
      ]
     },
     "execution_count": 65,
     "metadata": {},
     "output_type": "execute_result"
    }
   ],
   "source": [
    "model_df.sort_values(['mae'])"
   ]
  },
  {
   "cell_type": "code",
   "execution_count": 66,
   "id": "45199b4b-a559-41bd-9083-3e2dcbf9f4ff",
   "metadata": {
    "tags": []
   },
   "outputs": [
    {
     "data": {
      "image/png": "[encoded data removed]",
      "text/plain": [
       "<Figure size 1200x800 with 1 Axes>"
      ]
     },
     "metadata": {},
     "output_type": "display_data"
    },
    {
     "data": {
      "text/plain": [
       "<Figure size 640x480 with 0 Axes>"
      ]
     },
     "metadata": {},
     "output_type": "display_data"
    }
   ],
   "source": [
    "plt.figure(figsize=(12,8))\n",
    "ax = sns.barplot(x='name', y='r2',\n",
    "                  data=model_df.sort_values(['r2'],ascending=False),\n",
    "                 errwidth=0)\n",
    "plt.xticks(rotation=20)\n",
    "plt.title(\"R2 Score of Different Models\", fontweight='bold',size=12)\n",
    "plt.xlabel(\"Model Name\", fontweight='bold',size=12)\n",
    "plt.ylabel(\"R2 Score\", fontweight='bold',size=12)\n",
    "for i in ax.containers:\n",
    "    ax.bar_label(i,padding=3)\n",
    "plt.show() \n",
    "plt.savefig('visual3.png')"
   ]
  },
  {
   "cell_type": "code",
   "execution_count": null,
   "id": "4eae8bd0-ae18-421e-b991-d111f3b4b264",
   "metadata": {},
   "outputs": [],
   "source": []
  },
  {
   "cell_type": "markdown",
   "id": "c17cc572-1d7f-423b-8256-a2f668c0dd3d",
   "metadata": {},
   "source": [
    "## Hyperparameter Tuning"
   ]
  },
  {
   "cell_type": "code",
   "execution_count": 736,
   "id": "7284af55-f375-47dc-ae1e-40605e859343",
   "metadata": {
    "tags": []
   },
   "outputs": [],
   "source": [
    "from sklearn.model_selection import RandomizedSearchCV"
   ]
  },
  {
   "cell_type": "code",
   "execution_count": 737,
   "id": "1676ccac-1515-470c-9c3f-93ba3b5ea496",
   "metadata": {
    "tags": []
   },
   "outputs": [],
   "source": [
    "params_rf={\"regressor__criterion\":['absolute_error', 'squared_error', 'poisson', 'friedman_mse'],\n",
    "          \"regressor__max_depth\":[5,8,11,13,15],\n",
    "          \"regressor__min_samples_split\":[10,1520,30,40],\n",
    "          \"regressor__min_samples_leaf\":[1,2,5,20,10],\n",
    "          \"regressor__n_estimators\":[30,40,50,100,150,200,300],\n",
    "          \"regressor__bootstrap\":[True],\n",
    "          \"regressor__max_features\":[\"sqrt\",\"log2\"],\n",
    "          \"regressor__max_samples\":[.5,.6,.7,.75,.8]}"
   ]
  },
  {
   "cell_type": "code",
   "execution_count": 738,
   "id": "f7eea623-839e-4aee-b5df-2c2aa8609eea",
   "metadata": {
    "tags": []
   },
   "outputs": [],
   "source": [
    "columns_to_encode = ['property_type','sector', 'balcony', 'agePossession', 'furnishing_type', 'luxury_category', 'floor_category']\n",
    "\n",
    "# Creating a column transformer for preprocessing\n",
    "preprocessor = ColumnTransformer(\n",
    "    transformers=[\n",
    "        ('num', StandardScaler(), ['bedRoom', 'bathroom', 'built_up_area', 'servant room', 'store room']),\n",
    "        ('cat', OrdinalEncoder(), columns_to_encode),\n",
    "        ('cat1',OneHotEncoder(drop='first',sparse_output=False),['agePossession']),\n",
    "        ('target_enc', ce.TargetEncoder(), ['sector'])\n",
    "    ], \n",
    "    remainder='passthrough'\n",
    ")"
   ]
  },
  {
   "cell_type": "code",
   "execution_count": 739,
   "id": "9225bdc3-7225-4359-bf8c-e8bb0310f7b3",
   "metadata": {
    "tags": []
   },
   "outputs": [],
   "source": [
    "pipeline = Pipeline([\n",
    "    ('preprocessor', preprocessor),\n",
    "    ('regressor', RandomForestRegressor())\n",
    "])"
   ]
  },
  {
   "cell_type": "code",
   "execution_count": 740,
   "id": "8674ba50-7205-40b8-a8fe-3e32dafba02b",
   "metadata": {
    "tags": []
   },
   "outputs": [],
   "source": [
    "search = RandomizedSearchCV(pipeline, params_rf, cv=kfold, scoring='r2', n_jobs=-1, verbose=4)"
   ]
  },
  {
   "cell_type": "code",
   "execution_count": 741,
   "id": "adf25ac1-23a2-4366-9f25-1d2416a9cafc",
   "metadata": {
    "tags": []
   },
   "outputs": [
    {
     "name": "stdout",
     "output_type": "stream",
     "text": [
      "Fitting 10 folds for each of 10 candidates, totalling 100 fits\n"
     ]
    },
    {
     "data": {
      "text/html": [
       "<style>#sk-container-id-39 {color: black;background-color: white;}#sk-container-id-39 pre{padding: 0;}#sk-container-id-39 div.sk-toggleable {background-color: white;}#sk-container-id-39 label.sk-toggleable__label {cursor: pointer;display: block;width: 100%;margin-bottom: 0;padding: 0.3em;box-sizing: border-box;text-align: center;}#sk-container-id-39 label.sk-toggleable__label-arrow:before {content: \"▸\";float: left;margin-right: 0.25em;color: #696969;}#sk-container-id-39 label.sk-toggleable__label-arrow:hover:before {color: black;}#sk-container-id-39 div.sk-estimator:hover label.sk-toggleable__label-arrow:before {color: black;}#sk-container-id-39 div.sk-toggleable__content {max-height: 0;max-width: 0;overflow: hidden;text-align: left;background-color: #f0f8ff;}#sk-container-id-39 div.sk-toggleable__content pre {margin: 0.2em;color: black;border-radius: 0.25em;background-color: #f0f8ff;}#sk-container-id-39 input.sk-toggleable__control:checked~div.sk-toggleable__content {max-height: 200px;max-width: 100%;overflow: auto;}#sk-container-id-39 input.sk-toggleable__control:checked~label.sk-toggleable__label-arrow:before {content: \"▾\";}#sk-container-id-39 div.sk-estimator input.sk-toggleable__control:checked~label.sk-toggleable__label {background-color: #d4ebff;}#sk-container-id-39 div.sk-label input.sk-toggleable__control:checked~label.sk-toggleable__label {background-color: #d4ebff;}#sk-container-id-39 input.sk-hidden--visually {border: 0;clip: rect(1px 1px 1px 1px);clip: rect(1px, 1px, 1px, 1px);height: 1px;margin: -1px;overflow: hidden;padding: 0;position: absolute;width: 1px;}#sk-container-id-39 div.sk-estimator {font-family: monospace;background-color: #f0f8ff;border: 1px dotted black;border-radius: 0.25em;box-sizing: border-box;margin-bottom: 0.5em;}#sk-container-id-39 div.sk-estimator:hover {background-color: #d4ebff;}#sk-container-id-39 div.sk-parallel-item::after {content: \"\";width: 100%;border-bottom: 1px solid gray;flex-grow: 1;}#sk-container-id-39 div.sk-label:hover label.sk-toggleable__label {background-color: #d4ebff;}#sk-container-id-39 div.sk-serial::before {content: \"\";position: absolute;border-left: 1px solid gray;box-sizing: border-box;top: 0;bottom: 0;left: 50%;z-index: 0;}#sk-container-id-39 div.sk-serial {display: flex;flex-direction: column;align-items: center;background-color: white;padding-right: 0.2em;padding-left: 0.2em;position: relative;}#sk-container-id-39 div.sk-item {position: relative;z-index: 1;}#sk-container-id-39 div.sk-parallel {display: flex;align-items: stretch;justify-content: center;background-color: white;position: relative;}#sk-container-id-39 div.sk-item::before, #sk-container-id-39 div.sk-parallel-item::before {content: \"\";position: absolute;border-left: 1px solid gray;box-sizing: border-box;top: 0;bottom: 0;left: 50%;z-index: -1;}#sk-container-id-39 div.sk-parallel-item {display: flex;flex-direction: column;z-index: 1;position: relative;background-color: white;}#sk-container-id-39 div.sk-parallel-item:first-child::after {align-self: flex-end;width: 50%;}#sk-container-id-39 div.sk-parallel-item:last-child::after {align-self: flex-start;width: 50%;}#sk-container-id-39 div.sk-parallel-item:only-child::after {width: 0;}#sk-container-id-39 div.sk-dashed-wrapped {border: 1px dashed gray;margin: 0 0.4em 0.5em 0.4em;box-sizing: border-box;padding-bottom: 0.4em;background-color: white;}#sk-container-id-39 div.sk-label label {font-family: monospace;font-weight: bold;display: inline-block;line-height: 1.2em;}#sk-container-id-39 div.sk-label-container {text-align: center;}#sk-container-id-39 div.sk-container {/* jupyter's `normalize.less` sets `[hidden] { display: none; }` but bootstrap.min.css set `[hidden] { display: none !important; }` so we also need the `!important` here to be able to override the default hidden behavior on the sphinx rendered scikit-learn.org. See: https://github.com/scikit-learn/scikit-learn/issues/21755 */display: inline-block !important;position: relative;}#sk-container-id-39 div.sk-text-repr-fallback {display: none;}</style><div id=\"sk-container-id-39\" class=\"sk-top-container\"><div class=\"sk-text-repr-fallback\"><pre>RandomizedSearchCV(cv=KFold(n_splits=10, random_state=0, shuffle=True),\n",
       "                   estimator=Pipeline(steps=[(&#x27;preprocessor&#x27;,\n",
       "                                              ColumnTransformer(remainder=&#x27;passthrough&#x27;,\n",
       "                                                                transformers=[(&#x27;num&#x27;,\n",
       "                                                                               StandardScaler(),\n",
       "                                                                               [&#x27;bedRoom&#x27;,\n",
       "                                                                                &#x27;bathroom&#x27;,\n",
       "                                                                                &#x27;built_up_area&#x27;,\n",
       "                                                                                &#x27;servant &#x27;\n",
       "                                                                                &#x27;room&#x27;,\n",
       "                                                                                &#x27;store &#x27;\n",
       "                                                                                &#x27;room&#x27;]),\n",
       "                                                                              (&#x27;cat&#x27;,\n",
       "                                                                               OrdinalEncoder(),\n",
       "                                                                               [&#x27;property_type&#x27;,\n",
       "                                                                                &#x27;sector&#x27;,\n",
       "                                                                                &#x27;balcony&#x27;,\n",
       "                                                                                &#x27;agePossession&#x27;,\n",
       "                                                                                &#x27;furnishing_t...\n",
       "                                        &#x27;regressor__criterion&#x27;: [&#x27;absolute_error&#x27;,\n",
       "                                                                 &#x27;squared_error&#x27;,\n",
       "                                                                 &#x27;poisson&#x27;,\n",
       "                                                                 &#x27;friedman_mse&#x27;],\n",
       "                                        &#x27;regressor__max_depth&#x27;: [5, 8, 11, 13,\n",
       "                                                                 15],\n",
       "                                        &#x27;regressor__max_features&#x27;: [&#x27;sqrt&#x27;,\n",
       "                                                                    &#x27;log2&#x27;],\n",
       "                                        &#x27;regressor__max_samples&#x27;: [0.5, 0.6,\n",
       "                                                                   0.7, 0.75,\n",
       "                                                                   0.8],\n",
       "                                        &#x27;regressor__min_samples_leaf&#x27;: [1, 2, 5,\n",
       "                                                                        20,\n",
       "                                                                        10],\n",
       "                                        &#x27;regressor__min_samples_split&#x27;: [10,\n",
       "                                                                         1520,\n",
       "                                                                         30,\n",
       "                                                                         40],\n",
       "                                        &#x27;regressor__n_estimators&#x27;: [30, 40, 50,\n",
       "                                                                    100, 150,\n",
       "                                                                    200, 300]},\n",
       "                   scoring=&#x27;r2&#x27;, verbose=4)</pre><b>In a Jupyter environment, please rerun this cell to show the HTML representation or trust the notebook. <br />On GitHub, the HTML representation is unable to render, please try loading this page with nbviewer.org.</b></div><div class=\"sk-container\" hidden><div class=\"sk-item sk-dashed-wrapped\"><div class=\"sk-label-container\"><div class=\"sk-label sk-toggleable\"><input class=\"sk-toggleable__control sk-hidden--visually\" id=\"sk-estimator-id-323\" type=\"checkbox\" ><label for=\"sk-estimator-id-323\" class=\"sk-toggleable__label sk-toggleable__label-arrow\">RandomizedSearchCV</label><div class=\"sk-toggleable__content\"><pre>RandomizedSearchCV(cv=KFold(n_splits=10, random_state=0, shuffle=True),\n",
       "                   estimator=Pipeline(steps=[(&#x27;preprocessor&#x27;,\n",
       "                                              ColumnTransformer(remainder=&#x27;passthrough&#x27;,\n",
       "                                                                transformers=[(&#x27;num&#x27;,\n",
       "                                                                               StandardScaler(),\n",
       "                                                                               [&#x27;bedRoom&#x27;,\n",
       "                                                                                &#x27;bathroom&#x27;,\n",
       "                                                                                &#x27;built_up_area&#x27;,\n",
       "                                                                                &#x27;servant &#x27;\n",
       "                                                                                &#x27;room&#x27;,\n",
       "                                                                                &#x27;store &#x27;\n",
       "                                                                                &#x27;room&#x27;]),\n",
       "                                                                              (&#x27;cat&#x27;,\n",
       "                                                                               OrdinalEncoder(),\n",
       "                                                                               [&#x27;property_type&#x27;,\n",
       "                                                                                &#x27;sector&#x27;,\n",
       "                                                                                &#x27;balcony&#x27;,\n",
       "                                                                                &#x27;agePossession&#x27;,\n",
       "                                                                                &#x27;furnishing_t...\n",
       "                                        &#x27;regressor__criterion&#x27;: [&#x27;absolute_error&#x27;,\n",
       "                                                                 &#x27;squared_error&#x27;,\n",
       "                                                                 &#x27;poisson&#x27;,\n",
       "                                                                 &#x27;friedman_mse&#x27;],\n",
       "                                        &#x27;regressor__max_depth&#x27;: [5, 8, 11, 13,\n",
       "                                                                 15],\n",
       "                                        &#x27;regressor__max_features&#x27;: [&#x27;sqrt&#x27;,\n",
       "                                                                    &#x27;log2&#x27;],\n",
       "                                        &#x27;regressor__max_samples&#x27;: [0.5, 0.6,\n",
       "                                                                   0.7, 0.75,\n",
       "                                                                   0.8],\n",
       "                                        &#x27;regressor__min_samples_leaf&#x27;: [1, 2, 5,\n",
       "                                                                        20,\n",
       "                                                                        10],\n",
       "                                        &#x27;regressor__min_samples_split&#x27;: [10,\n",
       "                                                                         1520,\n",
       "                                                                         30,\n",
       "                                                                         40],\n",
       "                                        &#x27;regressor__n_estimators&#x27;: [30, 40, 50,\n",
       "                                                                    100, 150,\n",
       "                                                                    200, 300]},\n",
       "                   scoring=&#x27;r2&#x27;, verbose=4)</pre></div></div></div><div class=\"sk-parallel\"><div class=\"sk-parallel-item\"><div class=\"sk-item\"><div class=\"sk-label-container\"><div class=\"sk-label sk-toggleable\"><input class=\"sk-toggleable__control sk-hidden--visually\" id=\"sk-estimator-id-324\" type=\"checkbox\" ><label for=\"sk-estimator-id-324\" class=\"sk-toggleable__label sk-toggleable__label-arrow\">estimator: Pipeline</label><div class=\"sk-toggleable__content\"><pre>Pipeline(steps=[(&#x27;preprocessor&#x27;,\n",
       "                 ColumnTransformer(remainder=&#x27;passthrough&#x27;,\n",
       "                                   transformers=[(&#x27;num&#x27;, StandardScaler(),\n",
       "                                                  [&#x27;bedRoom&#x27;, &#x27;bathroom&#x27;,\n",
       "                                                   &#x27;built_up_area&#x27;,\n",
       "                                                   &#x27;servant room&#x27;,\n",
       "                                                   &#x27;store room&#x27;]),\n",
       "                                                 (&#x27;cat&#x27;, OrdinalEncoder(),\n",
       "                                                  [&#x27;property_type&#x27;, &#x27;sector&#x27;,\n",
       "                                                   &#x27;balcony&#x27;, &#x27;agePossession&#x27;,\n",
       "                                                   &#x27;furnishing_type&#x27;,\n",
       "                                                   &#x27;luxury_category&#x27;,\n",
       "                                                   &#x27;floor_category&#x27;]),\n",
       "                                                 (&#x27;cat1&#x27;,\n",
       "                                                  OneHotEncoder(drop=&#x27;first&#x27;,\n",
       "                                                                sparse_output=False),\n",
       "                                                  [&#x27;agePossession&#x27;]),\n",
       "                                                 (&#x27;target_enc&#x27;, TargetEncoder(),\n",
       "                                                  [&#x27;sector&#x27;])])),\n",
       "                (&#x27;regressor&#x27;, RandomForestRegressor())])</pre></div></div></div><div class=\"sk-serial\"><div class=\"sk-item\"><div class=\"sk-serial\"><div class=\"sk-item sk-dashed-wrapped\"><div class=\"sk-label-container\"><div class=\"sk-label sk-toggleable\"><input class=\"sk-toggleable__control sk-hidden--visually\" id=\"sk-estimator-id-325\" type=\"checkbox\" ><label for=\"sk-estimator-id-325\" class=\"sk-toggleable__label sk-toggleable__label-arrow\">preprocessor: ColumnTransformer</label><div class=\"sk-toggleable__content\"><pre>ColumnTransformer(remainder=&#x27;passthrough&#x27;,\n",
       "                  transformers=[(&#x27;num&#x27;, StandardScaler(),\n",
       "                                 [&#x27;bedRoom&#x27;, &#x27;bathroom&#x27;, &#x27;built_up_area&#x27;,\n",
       "                                  &#x27;servant room&#x27;, &#x27;store room&#x27;]),\n",
       "                                (&#x27;cat&#x27;, OrdinalEncoder(),\n",
       "                                 [&#x27;property_type&#x27;, &#x27;sector&#x27;, &#x27;balcony&#x27;,\n",
       "                                  &#x27;agePossession&#x27;, &#x27;furnishing_type&#x27;,\n",
       "                                  &#x27;luxury_category&#x27;, &#x27;floor_category&#x27;]),\n",
       "                                (&#x27;cat1&#x27;,\n",
       "                                 OneHotEncoder(drop=&#x27;first&#x27;,\n",
       "                                               sparse_output=False),\n",
       "                                 [&#x27;agePossession&#x27;]),\n",
       "                                (&#x27;target_enc&#x27;, TargetEncoder(), [&#x27;sector&#x27;])])</pre></div></div></div><div class=\"sk-parallel\"><div class=\"sk-parallel-item\"><div class=\"sk-item\"><div class=\"sk-label-container\"><div class=\"sk-label sk-toggleable\"><input class=\"sk-toggleable__control sk-hidden--visually\" id=\"sk-estimator-id-326\" type=\"checkbox\" ><label for=\"sk-estimator-id-326\" class=\"sk-toggleable__label sk-toggleable__label-arrow\">num</label><div class=\"sk-toggleable__content\"><pre>[&#x27;bedRoom&#x27;, &#x27;bathroom&#x27;, &#x27;built_up_area&#x27;, &#x27;servant room&#x27;, &#x27;store room&#x27;]</pre></div></div></div><div class=\"sk-serial\"><div class=\"sk-item\"><div class=\"sk-estimator sk-toggleable\"><input class=\"sk-toggleable__control sk-hidden--visually\" id=\"sk-estimator-id-327\" type=\"checkbox\" ><label for=\"sk-estimator-id-327\" class=\"sk-toggleable__label sk-toggleable__label-arrow\">StandardScaler</label><div class=\"sk-toggleable__content\"><pre>StandardScaler()</pre></div></div></div></div></div></div><div class=\"sk-parallel-item\"><div class=\"sk-item\"><div class=\"sk-label-container\"><div class=\"sk-label sk-toggleable\"><input class=\"sk-toggleable__control sk-hidden--visually\" id=\"sk-estimator-id-328\" type=\"checkbox\" ><label for=\"sk-estimator-id-328\" class=\"sk-toggleable__label sk-toggleable__label-arrow\">cat</label><div class=\"sk-toggleable__content\"><pre>[&#x27;property_type&#x27;, &#x27;sector&#x27;, &#x27;balcony&#x27;, &#x27;agePossession&#x27;, &#x27;furnishing_type&#x27;, &#x27;luxury_category&#x27;, &#x27;floor_category&#x27;]</pre></div></div></div><div class=\"sk-serial\"><div class=\"sk-item\"><div class=\"sk-estimator sk-toggleable\"><input class=\"sk-toggleable__control sk-hidden--visually\" id=\"sk-estimator-id-329\" type=\"checkbox\" ><label for=\"sk-estimator-id-329\" class=\"sk-toggleable__label sk-toggleable__label-arrow\">OrdinalEncoder</label><div class=\"sk-toggleable__content\"><pre>OrdinalEncoder()</pre></div></div></div></div></div></div><div class=\"sk-parallel-item\"><div class=\"sk-item\"><div class=\"sk-label-container\"><div class=\"sk-label sk-toggleable\"><input class=\"sk-toggleable__control sk-hidden--visually\" id=\"sk-estimator-id-330\" type=\"checkbox\" ><label for=\"sk-estimator-id-330\" class=\"sk-toggleable__label sk-toggleable__label-arrow\">cat1</label><div class=\"sk-toggleable__content\"><pre>[&#x27;agePossession&#x27;]</pre></div></div></div><div class=\"sk-serial\"><div class=\"sk-item\"><div class=\"sk-estimator sk-toggleable\"><input class=\"sk-toggleable__control sk-hidden--visually\" id=\"sk-estimator-id-331\" type=\"checkbox\" ><label for=\"sk-estimator-id-331\" class=\"sk-toggleable__label sk-toggleable__label-arrow\">OneHotEncoder</label><div class=\"sk-toggleable__content\"><pre>OneHotEncoder(drop=&#x27;first&#x27;, sparse_output=False)</pre></div></div></div></div></div></div><div class=\"sk-parallel-item\"><div class=\"sk-item\"><div class=\"sk-label-container\"><div class=\"sk-label sk-toggleable\"><input class=\"sk-toggleable__control sk-hidden--visually\" id=\"sk-estimator-id-332\" type=\"checkbox\" ><label for=\"sk-estimator-id-332\" class=\"sk-toggleable__label sk-toggleable__label-arrow\">target_enc</label><div class=\"sk-toggleable__content\"><pre>[&#x27;sector&#x27;]</pre></div></div></div><div class=\"sk-serial\"><div class=\"sk-item\"><div class=\"sk-estimator sk-toggleable\"><input class=\"sk-toggleable__control sk-hidden--visually\" id=\"sk-estimator-id-333\" type=\"checkbox\" ><label for=\"sk-estimator-id-333\" class=\"sk-toggleable__label sk-toggleable__label-arrow\">TargetEncoder</label><div class=\"sk-toggleable__content\"><pre>TargetEncoder()</pre></div></div></div></div></div></div><div class=\"sk-parallel-item\"><div class=\"sk-item\"><div class=\"sk-label-container\"><div class=\"sk-label sk-toggleable\"><input class=\"sk-toggleable__control sk-hidden--visually\" id=\"sk-estimator-id-334\" type=\"checkbox\" ><label for=\"sk-estimator-id-334\" class=\"sk-toggleable__label sk-toggleable__label-arrow\">remainder</label><div class=\"sk-toggleable__content\"><pre></pre></div></div></div><div class=\"sk-serial\"><div class=\"sk-item\"><div class=\"sk-estimator sk-toggleable\"><input class=\"sk-toggleable__control sk-hidden--visually\" id=\"sk-estimator-id-335\" type=\"checkbox\" ><label for=\"sk-estimator-id-335\" class=\"sk-toggleable__label sk-toggleable__label-arrow\">passthrough</label><div class=\"sk-toggleable__content\"><pre>passthrough</pre></div></div></div></div></div></div></div></div><div class=\"sk-item\"><div class=\"sk-estimator sk-toggleable\"><input class=\"sk-toggleable__control sk-hidden--visually\" id=\"sk-estimator-id-336\" type=\"checkbox\" ><label for=\"sk-estimator-id-336\" class=\"sk-toggleable__label sk-toggleable__label-arrow\">RandomForestRegressor</label><div class=\"sk-toggleable__content\"><pre>RandomForestRegressor()</pre></div></div></div></div></div></div></div></div></div></div></div></div>"
      ],
      "text/plain": [
       "RandomizedSearchCV(cv=KFold(n_splits=10, random_state=0, shuffle=True),\n",
       "                   estimator=Pipeline(steps=[('preprocessor',\n",
       "                                              ColumnTransformer(remainder='passthrough',\n",
       "                                                                transformers=[('num',\n",
       "                                                                               StandardScaler(),\n",
       "                                                                               ['bedRoom',\n",
       "                                                                                'bathroom',\n",
       "                                                                                'built_up_area',\n",
       "                                                                                'servant '\n",
       "                                                                                'room',\n",
       "                                                                                'store '\n",
       "                                                                                'room']),\n",
       "                                                                              ('cat',\n",
       "                                                                               OrdinalEncoder(),\n",
       "                                                                               ['property_type',\n",
       "                                                                                'sector',\n",
       "                                                                                'balcony',\n",
       "                                                                                'agePossession',\n",
       "                                                                                'furnishing_t...\n",
       "                                        'regressor__criterion': ['absolute_error',\n",
       "                                                                 'squared_error',\n",
       "                                                                 'poisson',\n",
       "                                                                 'friedman_mse'],\n",
       "                                        'regressor__max_depth': [5, 8, 11, 13,\n",
       "                                                                 15],\n",
       "                                        'regressor__max_features': ['sqrt',\n",
       "                                                                    'log2'],\n",
       "                                        'regressor__max_samples': [0.5, 0.6,\n",
       "                                                                   0.7, 0.75,\n",
       "                                                                   0.8],\n",
       "                                        'regressor__min_samples_leaf': [1, 2, 5,\n",
       "                                                                        20,\n",
       "                                                                        10],\n",
       "                                        'regressor__min_samples_split': [10,\n",
       "                                                                         1520,\n",
       "                                                                         30,\n",
       "                                                                         40],\n",
       "                                        'regressor__n_estimators': [30, 40, 50,\n",
       "                                                                    100, 150,\n",
       "                                                                    200, 300]},\n",
       "                   scoring='r2', verbose=4)"
      ]
     },
     "execution_count": 741,
     "metadata": {},
     "output_type": "execute_result"
    }
   ],
   "source": [
    "search.fit(X, y_transformed)"
   ]
  },
  {
   "cell_type": "code",
   "execution_count": 742,
   "id": "dcc6c6b1-20f6-4849-a232-99b413e4ff63",
   "metadata": {
    "tags": []
   },
   "outputs": [
    {
     "data": {
      "text/plain": [
       "{'regressor__n_estimators': 100,\n",
       " 'regressor__min_samples_split': 10,\n",
       " 'regressor__min_samples_leaf': 1,\n",
       " 'regressor__max_samples': 0.7,\n",
       " 'regressor__max_features': 'sqrt',\n",
       " 'regressor__max_depth': 8,\n",
       " 'regressor__criterion': 'friedman_mse',\n",
       " 'regressor__bootstrap': True}"
      ]
     },
     "execution_count": 742,
     "metadata": {},
     "output_type": "execute_result"
    }
   ],
   "source": [
    "search.best_params_"
   ]
  },
  {
   "cell_type": "code",
   "execution_count": 743,
   "id": "f7d30146-d438-4936-8bfe-f433faef3d95",
   "metadata": {
    "tags": []
   },
   "outputs": [
    {
     "data": {
      "text/plain": [
       "0.8793194602662128"
      ]
     },
     "execution_count": 743,
     "metadata": {},
     "output_type": "execute_result"
    }
   ],
   "source": [
    "search.best_score_"
   ]
  },
  {
   "cell_type": "code",
   "execution_count": 744,
   "id": "dc69d82a-4460-4047-9841-2dffbe6da6d8",
   "metadata": {
    "tags": []
   },
   "outputs": [],
   "source": [
    "# there is no improvement in the model performance using hyperparameter tuning hence we will build the model with the default parameters"
   ]
  },
  {
   "cell_type": "markdown",
   "id": "0e2b325d-8940-4e85-8543-76b0ca524fb2",
   "metadata": {},
   "source": [
    "## Exporting the model"
   ]
  },
  {
   "cell_type": "code",
   "execution_count": 59,
   "id": "3d1d8628-caae-46e0-b83b-8814a2ec390c",
   "metadata": {
    "tags": []
   },
   "outputs": [],
   "source": [
    "columns_to_encode = ['property_type','sector', 'balcony', 'agePossession', 'furnishing_type', 'luxury_category', 'floor_category']\n",
    "\n",
    "# Creating a column transformer for preprocessing\n",
    "preprocessor = ColumnTransformer(\n",
    "    transformers=[\n",
    "        ('num', StandardScaler(), ['bedRoom', 'bathroom', 'built_up_area', 'servant room', 'store room']),\n",
    "        ('cat', OrdinalEncoder(), columns_to_encode),\n",
    "        ('cat1',OneHotEncoder(drop='first',sparse_output=False),['agePossession']),\n",
    "        ('target_enc', ce.TargetEncoder(), ['sector'])\n",
    "    ], \n",
    "    remainder='passthrough'\n",
    ")"
   ]
  },
  {
   "cell_type": "code",
   "execution_count": 60,
   "id": "104bdfa9-40ec-4720-850e-fda32e179836",
   "metadata": {
    "tags": []
   },
   "outputs": [],
   "source": [
    "pipeline = Pipeline([\n",
    "    ('preprocessor', preprocessor),\n",
    "    ('regressor', RandomForestRegressor(n_estimators=500))\n",
    "])"
   ]
  },
  {
   "cell_type": "code",
   "execution_count": 61,
   "id": "011bd813-cbd5-4a77-87b0-dbf955184526",
   "metadata": {
    "tags": []
   },
   "outputs": [
    {
     "data": {
      "text/html": [
       "<style>#sk-container-id-4 {color: black;background-color: white;}#sk-container-id-4 pre{padding: 0;}#sk-container-id-4 div.sk-toggleable {background-color: white;}#sk-container-id-4 label.sk-toggleable__label {cursor: pointer;display: block;width: 100%;margin-bottom: 0;padding: 0.3em;box-sizing: border-box;text-align: center;}#sk-container-id-4 label.sk-toggleable__label-arrow:before {content: \"▸\";float: left;margin-right: 0.25em;color: #696969;}#sk-container-id-4 label.sk-toggleable__label-arrow:hover:before {color: black;}#sk-container-id-4 div.sk-estimator:hover label.sk-toggleable__label-arrow:before {color: black;}#sk-container-id-4 div.sk-toggleable__content {max-height: 0;max-width: 0;overflow: hidden;text-align: left;background-color: #f0f8ff;}#sk-container-id-4 div.sk-toggleable__content pre {margin: 0.2em;color: black;border-radius: 0.25em;background-color: #f0f8ff;}#sk-container-id-4 input.sk-toggleable__control:checked~div.sk-toggleable__content {max-height: 200px;max-width: 100%;overflow: auto;}#sk-container-id-4 input.sk-toggleable__control:checked~label.sk-toggleable__label-arrow:before {content: \"▾\";}#sk-container-id-4 div.sk-estimator input.sk-toggleable__control:checked~label.sk-toggleable__label {background-color: #d4ebff;}#sk-container-id-4 div.sk-label input.sk-toggleable__control:checked~label.sk-toggleable__label {background-color: #d4ebff;}#sk-container-id-4 input.sk-hidden--visually {border: 0;clip: rect(1px 1px 1px 1px);clip: rect(1px, 1px, 1px, 1px);height: 1px;margin: -1px;overflow: hidden;padding: 0;position: absolute;width: 1px;}#sk-container-id-4 div.sk-estimator {font-family: monospace;background-color: #f0f8ff;border: 1px dotted black;border-radius: 0.25em;box-sizing: border-box;margin-bottom: 0.5em;}#sk-container-id-4 div.sk-estimator:hover {background-color: #d4ebff;}#sk-container-id-4 div.sk-parallel-item::after {content: \"\";width: 100%;border-bottom: 1px solid gray;flex-grow: 1;}#sk-container-id-4 div.sk-label:hover label.sk-toggleable__label {background-color: #d4ebff;}#sk-container-id-4 div.sk-serial::before {content: \"\";position: absolute;border-left: 1px solid gray;box-sizing: border-box;top: 0;bottom: 0;left: 50%;z-index: 0;}#sk-container-id-4 div.sk-serial {display: flex;flex-direction: column;align-items: center;background-color: white;padding-right: 0.2em;padding-left: 0.2em;position: relative;}#sk-container-id-4 div.sk-item {position: relative;z-index: 1;}#sk-container-id-4 div.sk-parallel {display: flex;align-items: stretch;justify-content: center;background-color: white;position: relative;}#sk-container-id-4 div.sk-item::before, #sk-container-id-4 div.sk-parallel-item::before {content: \"\";position: absolute;border-left: 1px solid gray;box-sizing: border-box;top: 0;bottom: 0;left: 50%;z-index: -1;}#sk-container-id-4 div.sk-parallel-item {display: flex;flex-direction: column;z-index: 1;position: relative;background-color: white;}#sk-container-id-4 div.sk-parallel-item:first-child::after {align-self: flex-end;width: 50%;}#sk-container-id-4 div.sk-parallel-item:last-child::after {align-self: flex-start;width: 50%;}#sk-container-id-4 div.sk-parallel-item:only-child::after {width: 0;}#sk-container-id-4 div.sk-dashed-wrapped {border: 1px dashed gray;margin: 0 0.4em 0.5em 0.4em;box-sizing: border-box;padding-bottom: 0.4em;background-color: white;}#sk-container-id-4 div.sk-label label {font-family: monospace;font-weight: bold;display: inline-block;line-height: 1.2em;}#sk-container-id-4 div.sk-label-container {text-align: center;}#sk-container-id-4 div.sk-container {/* jupyter's `normalize.less` sets `[hidden] { display: none; }` but bootstrap.min.css set `[hidden] { display: none !important; }` so we also need the `!important` here to be able to override the default hidden behavior on the sphinx rendered scikit-learn.org. See: https://github.com/scikit-learn/scikit-learn/issues/21755 */display: inline-block !important;position: relative;}#sk-container-id-4 div.sk-text-repr-fallback {display: none;}</style><div id=\"sk-container-id-4\" class=\"sk-top-container\"><div class=\"sk-text-repr-fallback\"><pre>Pipeline(steps=[(&#x27;preprocessor&#x27;,\n",
       "                 ColumnTransformer(remainder=&#x27;passthrough&#x27;,\n",
       "                                   transformers=[(&#x27;num&#x27;, StandardScaler(),\n",
       "                                                  [&#x27;bedRoom&#x27;, &#x27;bathroom&#x27;,\n",
       "                                                   &#x27;built_up_area&#x27;,\n",
       "                                                   &#x27;servant room&#x27;,\n",
       "                                                   &#x27;store room&#x27;]),\n",
       "                                                 (&#x27;cat&#x27;, OrdinalEncoder(),\n",
       "                                                  [&#x27;property_type&#x27;, &#x27;sector&#x27;,\n",
       "                                                   &#x27;balcony&#x27;, &#x27;agePossession&#x27;,\n",
       "                                                   &#x27;furnishing_type&#x27;,\n",
       "                                                   &#x27;luxury_category&#x27;,\n",
       "                                                   &#x27;floor_category&#x27;]),\n",
       "                                                 (&#x27;cat1&#x27;,\n",
       "                                                  OneHotEncoder(drop=&#x27;first&#x27;,\n",
       "                                                                sparse_output=False),\n",
       "                                                  [&#x27;agePossession&#x27;]),\n",
       "                                                 (&#x27;target_enc&#x27;, TargetEncoder(),\n",
       "                                                  [&#x27;sector&#x27;])])),\n",
       "                (&#x27;regressor&#x27;, RandomForestRegressor(n_estimators=500))])</pre><b>In a Jupyter environment, please rerun this cell to show the HTML representation or trust the notebook. <br />On GitHub, the HTML representation is unable to render, please try loading this page with nbviewer.org.</b></div><div class=\"sk-container\" hidden><div class=\"sk-item sk-dashed-wrapped\"><div class=\"sk-label-container\"><div class=\"sk-label sk-toggleable\"><input class=\"sk-toggleable__control sk-hidden--visually\" id=\"sk-estimator-id-28\" type=\"checkbox\" ><label for=\"sk-estimator-id-28\" class=\"sk-toggleable__label sk-toggleable__label-arrow\">Pipeline</label><div class=\"sk-toggleable__content\"><pre>Pipeline(steps=[(&#x27;preprocessor&#x27;,\n",
       "                 ColumnTransformer(remainder=&#x27;passthrough&#x27;,\n",
       "                                   transformers=[(&#x27;num&#x27;, StandardScaler(),\n",
       "                                                  [&#x27;bedRoom&#x27;, &#x27;bathroom&#x27;,\n",
       "                                                   &#x27;built_up_area&#x27;,\n",
       "                                                   &#x27;servant room&#x27;,\n",
       "                                                   &#x27;store room&#x27;]),\n",
       "                                                 (&#x27;cat&#x27;, OrdinalEncoder(),\n",
       "                                                  [&#x27;property_type&#x27;, &#x27;sector&#x27;,\n",
       "                                                   &#x27;balcony&#x27;, &#x27;agePossession&#x27;,\n",
       "                                                   &#x27;furnishing_type&#x27;,\n",
       "                                                   &#x27;luxury_category&#x27;,\n",
       "                                                   &#x27;floor_category&#x27;]),\n",
       "                                                 (&#x27;cat1&#x27;,\n",
       "                                                  OneHotEncoder(drop=&#x27;first&#x27;,\n",
       "                                                                sparse_output=False),\n",
       "                                                  [&#x27;agePossession&#x27;]),\n",
       "                                                 (&#x27;target_enc&#x27;, TargetEncoder(),\n",
       "                                                  [&#x27;sector&#x27;])])),\n",
       "                (&#x27;regressor&#x27;, RandomForestRegressor(n_estimators=500))])</pre></div></div></div><div class=\"sk-serial\"><div class=\"sk-item sk-dashed-wrapped\"><div class=\"sk-label-container\"><div class=\"sk-label sk-toggleable\"><input class=\"sk-toggleable__control sk-hidden--visually\" id=\"sk-estimator-id-29\" type=\"checkbox\" ><label for=\"sk-estimator-id-29\" class=\"sk-toggleable__label sk-toggleable__label-arrow\">preprocessor: ColumnTransformer</label><div class=\"sk-toggleable__content\"><pre>ColumnTransformer(remainder=&#x27;passthrough&#x27;,\n",
       "                  transformers=[(&#x27;num&#x27;, StandardScaler(),\n",
       "                                 [&#x27;bedRoom&#x27;, &#x27;bathroom&#x27;, &#x27;built_up_area&#x27;,\n",
       "                                  &#x27;servant room&#x27;, &#x27;store room&#x27;]),\n",
       "                                (&#x27;cat&#x27;, OrdinalEncoder(),\n",
       "                                 [&#x27;property_type&#x27;, &#x27;sector&#x27;, &#x27;balcony&#x27;,\n",
       "                                  &#x27;agePossession&#x27;, &#x27;furnishing_type&#x27;,\n",
       "                                  &#x27;luxury_category&#x27;, &#x27;floor_category&#x27;]),\n",
       "                                (&#x27;cat1&#x27;,\n",
       "                                 OneHotEncoder(drop=&#x27;first&#x27;,\n",
       "                                               sparse_output=False),\n",
       "                                 [&#x27;agePossession&#x27;]),\n",
       "                                (&#x27;target_enc&#x27;, TargetEncoder(), [&#x27;sector&#x27;])])</pre></div></div></div><div class=\"sk-parallel\"><div class=\"sk-parallel-item\"><div class=\"sk-item\"><div class=\"sk-label-container\"><div class=\"sk-label sk-toggleable\"><input class=\"sk-toggleable__control sk-hidden--visually\" id=\"sk-estimator-id-30\" type=\"checkbox\" ><label for=\"sk-estimator-id-30\" class=\"sk-toggleable__label sk-toggleable__label-arrow\">num</label><div class=\"sk-toggleable__content\"><pre>[&#x27;bedRoom&#x27;, &#x27;bathroom&#x27;, &#x27;built_up_area&#x27;, &#x27;servant room&#x27;, &#x27;store room&#x27;]</pre></div></div></div><div class=\"sk-serial\"><div class=\"sk-item\"><div class=\"sk-estimator sk-toggleable\"><input class=\"sk-toggleable__control sk-hidden--visually\" id=\"sk-estimator-id-31\" type=\"checkbox\" ><label for=\"sk-estimator-id-31\" class=\"sk-toggleable__label sk-toggleable__label-arrow\">StandardScaler</label><div class=\"sk-toggleable__content\"><pre>StandardScaler()</pre></div></div></div></div></div></div><div class=\"sk-parallel-item\"><div class=\"sk-item\"><div class=\"sk-label-container\"><div class=\"sk-label sk-toggleable\"><input class=\"sk-toggleable__control sk-hidden--visually\" id=\"sk-estimator-id-32\" type=\"checkbox\" ><label for=\"sk-estimator-id-32\" class=\"sk-toggleable__label sk-toggleable__label-arrow\">cat</label><div class=\"sk-toggleable__content\"><pre>[&#x27;property_type&#x27;, &#x27;sector&#x27;, &#x27;balcony&#x27;, &#x27;agePossession&#x27;, &#x27;furnishing_type&#x27;, &#x27;luxury_category&#x27;, &#x27;floor_category&#x27;]</pre></div></div></div><div class=\"sk-serial\"><div class=\"sk-item\"><div class=\"sk-estimator sk-toggleable\"><input class=\"sk-toggleable__control sk-hidden--visually\" id=\"sk-estimator-id-33\" type=\"checkbox\" ><label for=\"sk-estimator-id-33\" class=\"sk-toggleable__label sk-toggleable__label-arrow\">OrdinalEncoder</label><div class=\"sk-toggleable__content\"><pre>OrdinalEncoder()</pre></div></div></div></div></div></div><div class=\"sk-parallel-item\"><div class=\"sk-item\"><div class=\"sk-label-container\"><div class=\"sk-label sk-toggleable\"><input class=\"sk-toggleable__control sk-hidden--visually\" id=\"sk-estimator-id-34\" type=\"checkbox\" ><label for=\"sk-estimator-id-34\" class=\"sk-toggleable__label sk-toggleable__label-arrow\">cat1</label><div class=\"sk-toggleable__content\"><pre>[&#x27;agePossession&#x27;]</pre></div></div></div><div class=\"sk-serial\"><div class=\"sk-item\"><div class=\"sk-estimator sk-toggleable\"><input class=\"sk-toggleable__control sk-hidden--visually\" id=\"sk-estimator-id-35\" type=\"checkbox\" ><label for=\"sk-estimator-id-35\" class=\"sk-toggleable__label sk-toggleable__label-arrow\">OneHotEncoder</label><div class=\"sk-toggleable__content\"><pre>OneHotEncoder(drop=&#x27;first&#x27;, sparse_output=False)</pre></div></div></div></div></div></div><div class=\"sk-parallel-item\"><div class=\"sk-item\"><div class=\"sk-label-container\"><div class=\"sk-label sk-toggleable\"><input class=\"sk-toggleable__control sk-hidden--visually\" id=\"sk-estimator-id-36\" type=\"checkbox\" ><label for=\"sk-estimator-id-36\" class=\"sk-toggleable__label sk-toggleable__label-arrow\">target_enc</label><div class=\"sk-toggleable__content\"><pre>[&#x27;sector&#x27;]</pre></div></div></div><div class=\"sk-serial\"><div class=\"sk-item\"><div class=\"sk-estimator sk-toggleable\"><input class=\"sk-toggleable__control sk-hidden--visually\" id=\"sk-estimator-id-37\" type=\"checkbox\" ><label for=\"sk-estimator-id-37\" class=\"sk-toggleable__label sk-toggleable__label-arrow\">TargetEncoder</label><div class=\"sk-toggleable__content\"><pre>TargetEncoder()</pre></div></div></div></div></div></div><div class=\"sk-parallel-item\"><div class=\"sk-item\"><div class=\"sk-label-container\"><div class=\"sk-label sk-toggleable\"><input class=\"sk-toggleable__control sk-hidden--visually\" id=\"sk-estimator-id-38\" type=\"checkbox\" ><label for=\"sk-estimator-id-38\" class=\"sk-toggleable__label sk-toggleable__label-arrow\">remainder</label><div class=\"sk-toggleable__content\"><pre>[]</pre></div></div></div><div class=\"sk-serial\"><div class=\"sk-item\"><div class=\"sk-estimator sk-toggleable\"><input class=\"sk-toggleable__control sk-hidden--visually\" id=\"sk-estimator-id-39\" type=\"checkbox\" ><label for=\"sk-estimator-id-39\" class=\"sk-toggleable__label sk-toggleable__label-arrow\">passthrough</label><div class=\"sk-toggleable__content\"><pre>passthrough</pre></div></div></div></div></div></div></div></div><div class=\"sk-item\"><div class=\"sk-estimator sk-toggleable\"><input class=\"sk-toggleable__control sk-hidden--visually\" id=\"sk-estimator-id-40\" type=\"checkbox\" ><label for=\"sk-estimator-id-40\" class=\"sk-toggleable__label sk-toggleable__label-arrow\">RandomForestRegressor</label><div class=\"sk-toggleable__content\"><pre>RandomForestRegressor(n_estimators=500)</pre></div></div></div></div></div></div></div>"
      ],
      "text/plain": [
       "Pipeline(steps=[('preprocessor',\n",
       "                 ColumnTransformer(remainder='passthrough',\n",
       "                                   transformers=[('num', StandardScaler(),\n",
       "                                                  ['bedRoom', 'bathroom',\n",
       "                                                   'built_up_area',\n",
       "                                                   'servant room',\n",
       "                                                   'store room']),\n",
       "                                                 ('cat', OrdinalEncoder(),\n",
       "                                                  ['property_type', 'sector',\n",
       "                                                   'balcony', 'agePossession',\n",
       "                                                   'furnishing_type',\n",
       "                                                   'luxury_category',\n",
       "                                                   'floor_category']),\n",
       "                                                 ('cat1',\n",
       "                                                  OneHotEncoder(drop='first',\n",
       "                                                                sparse_output=False),\n",
       "                                                  ['agePossession']),\n",
       "                                                 ('target_enc', TargetEncoder(),\n",
       "                                                  ['sector'])])),\n",
       "                ('regressor', RandomForestRegressor(n_estimators=500))])"
      ]
     },
     "execution_count": 61,
     "metadata": {},
     "output_type": "execute_result"
    }
   ],
   "source": [
    "pipeline.fit(X,y_transformed)"
   ]
  },
  {
   "cell_type": "code",
   "execution_count": 62,
   "id": "bf8df314-3d05-44fb-902b-ac70c7d32782",
   "metadata": {},
   "outputs": [],
   "source": [
    "import bz2file as bz2\n",
    "import pickle"
   ]
  },
  {
   "cell_type": "code",
   "execution_count": 65,
   "id": "3a366179-004e-4098-a8e2-d198fcdf5043",
   "metadata": {
    "tags": []
   },
   "outputs": [],
   "source": [
    "import pickle\n",
    "\n",
    "with open('pipeline.pkl', 'wb') as file:\n",
    "    pickle.dump(pipeline, file)"
   ]
  },
  {
   "cell_type": "code",
   "execution_count": 67,
   "id": "d86cbf04-d805-4fb3-9987-9a5b12b7cf92",
   "metadata": {
    "tags": []
   },
   "outputs": [],
   "source": [
    "with open('df.pkl', 'wb') as file:\n",
    "    pickle.dump(X, file)"
   ]
  },
  {
   "cell_type": "code",
   "execution_count": null,
   "id": "600c0728-2c3e-40b7-ba00-1eae91dbfcff",
   "metadata": {},
   "outputs": [],
   "source": []
  },
  {
   "cell_type": "code",
   "execution_count": 64,
   "id": "eec342e0-ee56-4b43-8e73-9afdbf2a92d1",
   "metadata": {},
   "outputs": [],
   "source": [
    "with bz2.BZ2File('pipeline1.pbz2', 'w') as f:\n",
    "    pickle.dump(pipeline, f)"
   ]
  },
  {
   "cell_type": "code",
   "execution_count": 549,
   "id": "f86d6459-d58d-4921-93d8-75c0d8e67e8a",
   "metadata": {
    "tags": []
   },
   "outputs": [
    {
     "data": {
      "text/html": [
       "<div>\n",
       "<style scoped>\n",
       "    .dataframe tbody tr th:only-of-type {\n",
       "        vertical-align: middle;\n",
       "    }\n",
       "\n",
       "    .dataframe tbody tr th {\n",
       "        vertical-align: top;\n",
       "    }\n",
       "\n",
       "    .dataframe thead th {\n",
       "        text-align: right;\n",
       "    }\n",
       "</style>\n",
       "<table border=\"1\" class=\"dataframe\">\n",
       "  <thead>\n",
       "    <tr style=\"text-align: right;\">\n",
       "      <th></th>\n",
       "      <th>property_type</th>\n",
       "      <th>sector</th>\n",
       "      <th>bedRoom</th>\n",
       "      <th>bathroom</th>\n",
       "      <th>balcony</th>\n",
       "      <th>agePossession</th>\n",
       "      <th>built_up_area</th>\n",
       "      <th>servant room</th>\n",
       "      <th>store room</th>\n",
       "      <th>furnishing_type</th>\n",
       "      <th>luxury_category</th>\n",
       "      <th>floor_category</th>\n",
       "    </tr>\n",
       "  </thead>\n",
       "  <tbody>\n",
       "    <tr>\n",
       "      <th>0</th>\n",
       "      <td>house</td>\n",
       "      <td>sohna road road</td>\n",
       "      <td>3.0</td>\n",
       "      <td>3.0</td>\n",
       "      <td>0</td>\n",
       "      <td>Moderately Old</td>\n",
       "      <td>9000.0</td>\n",
       "      <td>0.0</td>\n",
       "      <td>0.0</td>\n",
       "      <td>unfurnished</td>\n",
       "      <td>Low</td>\n",
       "      <td>Low Floor</td>\n",
       "    </tr>\n",
       "    <tr>\n",
       "      <th>1</th>\n",
       "      <td>flat</td>\n",
       "      <td>sector 103</td>\n",
       "      <td>2.0</td>\n",
       "      <td>2.0</td>\n",
       "      <td>3</td>\n",
       "      <td>Relatively New</td>\n",
       "      <td>1080.0</td>\n",
       "      <td>0.0</td>\n",
       "      <td>0.0</td>\n",
       "      <td>semifurnished</td>\n",
       "      <td>High</td>\n",
       "      <td>Mid Floor</td>\n",
       "    </tr>\n",
       "    <tr>\n",
       "      <th>2</th>\n",
       "      <td>flat</td>\n",
       "      <td>sector 102</td>\n",
       "      <td>3.0</td>\n",
       "      <td>3.0</td>\n",
       "      <td>3</td>\n",
       "      <td>Relatively New</td>\n",
       "      <td>1300.0</td>\n",
       "      <td>1.0</td>\n",
       "      <td>0.0</td>\n",
       "      <td>unfurnished</td>\n",
       "      <td>Low</td>\n",
       "      <td>Mid Floor</td>\n",
       "    </tr>\n",
       "    <tr>\n",
       "      <th>3</th>\n",
       "      <td>flat</td>\n",
       "      <td>sector 85</td>\n",
       "      <td>2.0</td>\n",
       "      <td>2.0</td>\n",
       "      <td>3+</td>\n",
       "      <td>Relatively New</td>\n",
       "      <td>1512.0</td>\n",
       "      <td>0.0</td>\n",
       "      <td>1.0</td>\n",
       "      <td>unfurnished</td>\n",
       "      <td>Medium</td>\n",
       "      <td>Mid Floor</td>\n",
       "    </tr>\n",
       "    <tr>\n",
       "      <th>4</th>\n",
       "      <td>house</td>\n",
       "      <td>sector 83</td>\n",
       "      <td>3.0</td>\n",
       "      <td>3.0</td>\n",
       "      <td>3+</td>\n",
       "      <td>New Property</td>\n",
       "      <td>2160.0</td>\n",
       "      <td>1.0</td>\n",
       "      <td>0.0</td>\n",
       "      <td>unfurnished</td>\n",
       "      <td>Low</td>\n",
       "      <td>Mid Floor</td>\n",
       "    </tr>\n",
       "    <tr>\n",
       "      <th>...</th>\n",
       "      <td>...</td>\n",
       "      <td>...</td>\n",
       "      <td>...</td>\n",
       "      <td>...</td>\n",
       "      <td>...</td>\n",
       "      <td>...</td>\n",
       "      <td>...</td>\n",
       "      <td>...</td>\n",
       "      <td>...</td>\n",
       "      <td>...</td>\n",
       "      <td>...</td>\n",
       "      <td>...</td>\n",
       "    </tr>\n",
       "    <tr>\n",
       "      <th>3548</th>\n",
       "      <td>flat</td>\n",
       "      <td>sector 65</td>\n",
       "      <td>3.0</td>\n",
       "      <td>3.0</td>\n",
       "      <td>3</td>\n",
       "      <td>Relatively New</td>\n",
       "      <td>3043.0</td>\n",
       "      <td>1.0</td>\n",
       "      <td>0.0</td>\n",
       "      <td>unfurnished</td>\n",
       "      <td>Medium</td>\n",
       "      <td>High Floor</td>\n",
       "    </tr>\n",
       "    <tr>\n",
       "      <th>3549</th>\n",
       "      <td>flat</td>\n",
       "      <td>sector 104</td>\n",
       "      <td>3.0</td>\n",
       "      <td>4.0</td>\n",
       "      <td>3+</td>\n",
       "      <td>Moderately Old</td>\n",
       "      <td>2217.0</td>\n",
       "      <td>1.0</td>\n",
       "      <td>0.0</td>\n",
       "      <td>unfurnished</td>\n",
       "      <td>Medium</td>\n",
       "      <td>Mid Floor</td>\n",
       "    </tr>\n",
       "    <tr>\n",
       "      <th>3551</th>\n",
       "      <td>flat</td>\n",
       "      <td>sector 103</td>\n",
       "      <td>2.0</td>\n",
       "      <td>3.0</td>\n",
       "      <td>3</td>\n",
       "      <td>Relatively New</td>\n",
       "      <td>1257.0</td>\n",
       "      <td>1.0</td>\n",
       "      <td>0.0</td>\n",
       "      <td>semifurnished</td>\n",
       "      <td>Medium</td>\n",
       "      <td>Low Floor</td>\n",
       "    </tr>\n",
       "    <tr>\n",
       "      <th>3552</th>\n",
       "      <td>house</td>\n",
       "      <td>sector 43</td>\n",
       "      <td>4.0</td>\n",
       "      <td>4.0</td>\n",
       "      <td>3+</td>\n",
       "      <td>Moderately Old</td>\n",
       "      <td>540.0</td>\n",
       "      <td>0.0</td>\n",
       "      <td>0.0</td>\n",
       "      <td>furnished</td>\n",
       "      <td>Low</td>\n",
       "      <td>Mid Floor</td>\n",
       "    </tr>\n",
       "    <tr>\n",
       "      <th>3553</th>\n",
       "      <td>flat</td>\n",
       "      <td>sector 102</td>\n",
       "      <td>3.0</td>\n",
       "      <td>4.0</td>\n",
       "      <td>3+</td>\n",
       "      <td>Relatively New</td>\n",
       "      <td>1400.0</td>\n",
       "      <td>1.0</td>\n",
       "      <td>0.0</td>\n",
       "      <td>semifurnished</td>\n",
       "      <td>High</td>\n",
       "      <td>Mid Floor</td>\n",
       "    </tr>\n",
       "  </tbody>\n",
       "</table>\n",
       "<p>3552 rows × 12 columns</p>\n",
       "</div>"
      ],
      "text/plain": [
       "     property_type           sector  bedRoom  bathroom balcony  \\\n",
       "0            house  sohna road road      3.0       3.0       0   \n",
       "1             flat       sector 103      2.0       2.0       3   \n",
       "2             flat       sector 102      3.0       3.0       3   \n",
       "3             flat        sector 85      2.0       2.0      3+   \n",
       "4            house        sector 83      3.0       3.0      3+   \n",
       "...            ...              ...      ...       ...     ...   \n",
       "3548          flat        sector 65      3.0       3.0       3   \n",
       "3549          flat       sector 104      3.0       4.0      3+   \n",
       "3551          flat       sector 103      2.0       3.0       3   \n",
       "3552         house        sector 43      4.0       4.0      3+   \n",
       "3553          flat       sector 102      3.0       4.0      3+   \n",
       "\n",
       "       agePossession  built_up_area  servant room  store room furnishing_type  \\\n",
       "0     Moderately Old         9000.0           0.0         0.0     unfurnished   \n",
       "1     Relatively New         1080.0           0.0         0.0   semifurnished   \n",
       "2     Relatively New         1300.0           1.0         0.0     unfurnished   \n",
       "3     Relatively New         1512.0           0.0         1.0     unfurnished   \n",
       "4       New Property         2160.0           1.0         0.0     unfurnished   \n",
       "...              ...            ...           ...         ...             ...   \n",
       "3548  Relatively New         3043.0           1.0         0.0     unfurnished   \n",
       "3549  Moderately Old         2217.0           1.0         0.0     unfurnished   \n",
       "3551  Relatively New         1257.0           1.0         0.0   semifurnished   \n",
       "3552  Moderately Old          540.0           0.0         0.0       furnished   \n",
       "3553  Relatively New         1400.0           1.0         0.0   semifurnished   \n",
       "\n",
       "     luxury_category floor_category  \n",
       "0                Low      Low Floor  \n",
       "1               High      Mid Floor  \n",
       "2                Low      Mid Floor  \n",
       "3             Medium      Mid Floor  \n",
       "4                Low      Mid Floor  \n",
       "...              ...            ...  \n",
       "3548          Medium     High Floor  \n",
       "3549          Medium      Mid Floor  \n",
       "3551          Medium      Low Floor  \n",
       "3552             Low      Mid Floor  \n",
       "3553            High      Mid Floor  \n",
       "\n",
       "[3552 rows x 12 columns]"
      ]
     },
     "execution_count": 549,
     "metadata": {},
     "output_type": "execute_result"
    }
   ],
   "source": [
    "X"
   ]
  },
  {
   "cell_type": "markdown",
   "id": "5881a40c-6e28-4065-9af8-0fde10b348de",
   "metadata": {},
   "source": [
    "## Trying out the predictions"
   ]
  },
  {
   "cell_type": "code",
   "execution_count": 550,
   "id": "4fb36098-a20a-4631-a93a-face50d656a2",
   "metadata": {
    "tags": []
   },
   "outputs": [
    {
     "data": {
      "text/plain": [
       "Index(['property_type', 'sector', 'bedRoom', 'bathroom', 'balcony',\n",
       "       'agePossession', 'built_up_area', 'servant room', 'store room',\n",
       "       'furnishing_type', 'luxury_category', 'floor_category'],\n",
       "      dtype='object')"
      ]
     },
     "execution_count": 550,
     "metadata": {},
     "output_type": "execute_result"
    }
   ],
   "source": [
    "X.columns"
   ]
  },
  {
   "cell_type": "code",
   "execution_count": 551,
   "id": "2f874bdc-8a67-4e25-a6ff-42bc66f85b5e",
   "metadata": {
    "tags": []
   },
   "outputs": [
    {
     "data": {
      "text/plain": [
       "array(['house', 'sohna road road', 3.0, 3.0, '0', 'Moderately Old',\n",
       "       9000.0, 0.0, 0.0, 'unfurnished', 'Low', 'Low Floor'], dtype=object)"
      ]
     },
     "execution_count": 551,
     "metadata": {},
     "output_type": "execute_result"
    }
   ],
   "source": [
    "X.iloc[0].values"
   ]
  },
  {
   "cell_type": "code",
   "execution_count": 560,
   "id": "b21cfb88-6dbd-4ec6-b28f-3fb5c271603a",
   "metadata": {
    "tags": []
   },
   "outputs": [
    {
     "data": {
      "text/html": [
       "<div>\n",
       "<style scoped>\n",
       "    .dataframe tbody tr th:only-of-type {\n",
       "        vertical-align: middle;\n",
       "    }\n",
       "\n",
       "    .dataframe tbody tr th {\n",
       "        vertical-align: top;\n",
       "    }\n",
       "\n",
       "    .dataframe thead th {\n",
       "        text-align: right;\n",
       "    }\n",
       "</style>\n",
       "<table border=\"1\" class=\"dataframe\">\n",
       "  <thead>\n",
       "    <tr style=\"text-align: right;\">\n",
       "      <th></th>\n",
       "      <th>property_type</th>\n",
       "      <th>sector</th>\n",
       "      <th>bedRoom</th>\n",
       "      <th>bathroom</th>\n",
       "      <th>balcony</th>\n",
       "      <th>agePossession</th>\n",
       "      <th>built_up_area</th>\n",
       "      <th>servant room</th>\n",
       "      <th>store room</th>\n",
       "      <th>furnishing_type</th>\n",
       "      <th>luxury_category</th>\n",
       "      <th>floor_category</th>\n",
       "    </tr>\n",
       "  </thead>\n",
       "  <tbody>\n",
       "    <tr>\n",
       "      <th>0</th>\n",
       "      <td>flat</td>\n",
       "      <td>sector 102</td>\n",
       "      <td>2</td>\n",
       "      <td>3</td>\n",
       "      <td>3+</td>\n",
       "      <td>Old Property</td>\n",
       "      <td>1750</td>\n",
       "      <td>0</td>\n",
       "      <td>0</td>\n",
       "      <td>furnished</td>\n",
       "      <td>Low</td>\n",
       "      <td>Low Floor</td>\n",
       "    </tr>\n",
       "  </tbody>\n",
       "</table>\n",
       "</div>"
      ],
      "text/plain": [
       "  property_type      sector  bedRoom  bathroom balcony agePossession  \\\n",
       "0          flat  sector 102        2         3      3+  Old Property   \n",
       "\n",
       "   built_up_area  servant room  store room furnishing_type luxury_category  \\\n",
       "0           1750             0           0       furnished             Low   \n",
       "\n",
       "  floor_category  \n",
       "0      Low Floor  "
      ]
     },
     "execution_count": 560,
     "metadata": {},
     "output_type": "execute_result"
    }
   ],
   "source": [
    "data = [['flat', 'sector 102', 2, 3, '3+', 'Old Property', 1750, 0, 0, 'furnished', 'Low', 'Low Floor']]\n",
    "columns = ['property_type', 'sector', 'bedRoom', 'bathroom', 'balcony',\n",
    "       'agePossession', 'built_up_area', 'servant room', 'store room',\n",
    "       'furnishing_type', 'luxury_category', 'floor_category']\n",
    "\n",
    "# Convert to DataFrame\n",
    "one_df = pd.DataFrame(data, columns=columns)\n",
    "\n",
    "one_df"
   ]
  },
  {
   "cell_type": "code",
   "execution_count": 561,
   "id": "fe5833ae-cd72-45f7-b4d7-a58c51487d9e",
   "metadata": {
    "tags": []
   },
   "outputs": [
    {
     "data": {
      "text/plain": [
       "array([1.64279222])"
      ]
     },
     "execution_count": 561,
     "metadata": {},
     "output_type": "execute_result"
    }
   ],
   "source": [
    "np.expm1(pipeline.predict(one_df))"
   ]
  },
  {
   "cell_type": "code",
   "execution_count": null,
   "id": "87ab8ee4-bb86-442b-9606-9d95a6d57cec",
   "metadata": {},
   "outputs": [],
   "source": []
  },
  {
   "cell_type": "code",
   "execution_count": null,
   "id": "a68a2d18-1dc2-4ac7-a23c-dfa24c91e75c",
   "metadata": {},
   "outputs": [],
   "source": []
  }
 ],
 "metadata": {
  "kernelspec": {
   "display_name": "Python 3 (ipykernel)",
   "language": "python",
   "name": "python3"
  },
  "language_info": {
   "codemirror_mode": {
    "name": "ipython",
    "version": 3
   },
   "file_extension": ".py",
   "mimetype": "text/x-python",
   "name": "python",
   "nbconvert_exporter": "python",
   "pygments_lexer": "ipython3",
   "version": "3.11.5"
  }
 },
 "nbformat": 4,
 "nbformat_minor": 5
}
